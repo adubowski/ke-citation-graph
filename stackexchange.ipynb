{
 "cells": [
  {
   "cell_type": "code",
   "execution_count": 2,
   "metadata": {
    "pycharm": {
     "name": "#%%\n"
    }
   },
   "outputs": [],
   "source": [
    "import pandas as pd\n",
    "import re"
   ]
  },
  {
   "cell_type": "code",
   "execution_count": 3,
   "metadata": {
    "pycharm": {
     "name": "#%%\n"
    }
   },
   "outputs": [],
   "source": [
    "def process_stackexchange(board: str) -> list[pd.DataFrame]:\n",
    "    \"\"\"_summary_\n",
    "\n",
    "    Args:\n",
    "        board (str): Stackexchange board to load. Expected file structure is \n",
    "            ./data/`board`/*.xml\n",
    "\n",
    "    Returns:\n",
    "        list[pd.DataFrame]: List of pandas dataframes with Comments and \n",
    "            PostHistory data with extracted DOIs and markdown links.\n",
    "    \"\"\"\n",
    "    # Regex patterns\n",
    "    DOI_PATTERN = \"(10\\.\\d{4,9}/[-._;()/:A-Z0-9]+[/A-Z0-9])\" \n",
    "    MD_PATTERN = \"\\[([\\w\\s\\d]+)\\]\\((https?:\\/\\/[\\w\\d./?=#]+)\\)\"\n",
    "\n",
    "    def process_set(set: str) -> pd.DataFrame:\n",
    "        \"\"\"Processes single file in board data\n",
    "\n",
    "        Args:\n",
    "            set (str): One of \"Comments\" or \"PostHistory\"\n",
    "\n",
    "        Returns:\n",
    "            pd.DataFrame: Original data with extracted DOIs and markdown links\n",
    "        \"\"\"       \n",
    "        # Load xml file \n",
    "        path = f\"data/{board}/{set}.xml\"\n",
    "        with open(path, encoding=\"utf8\") as file:\n",
    "            df = pd.read_xml(file.read())\n",
    "\n",
    "        # Extract DOIs\n",
    "        df[\"DOIs\"] = df[\"Text\"].str.extract(pat=DOI_PATTERN, flags=re.IGNORECASE)\n",
    "\n",
    "        # Extract markdown links\n",
    "        markdown_df = df[\"Text\"].str.extract(pat=MD_PATTERN)\n",
    "        markdown_df.columns = [\"LinkTitle\", \"LinkURL\"]\n",
    "\n",
    "        return pd.concat([df, markdown_df], axis=1)\n",
    "\n",
    "\n",
    "    return process_set(\"Comments\"), process_set(\"PostHistory\")\n"
   ]
  },
  {
   "cell_type": "code",
   "execution_count": 5,
   "metadata": {
    "pycharm": {
     "name": "#%%\n"
    }
   },
   "outputs": [],
   "source": [
    "comments_df, posthistory_df = process_stackexchange(\"stats\")"
   ]
  },
  {
   "cell_type": "code",
   "execution_count": 6,
   "metadata": {
    "pycharm": {
     "name": "#%%\n"
    }
   },
   "outputs": [
    {
     "data": {
      "text/plain": "1052               10.1145/1508128.1508139\n2029                    10.1007/BF01897163\n2169         10.1016/S0378-3758(97)00050-5\n3381                    10.1007/BF02480942\n3382                       10.1137/0118065\n                        ...               \n708321    10.1111/j.1467-9892.2012.00819.x\n708440            10.1177/1094428106296639\n708739                  10.1093/pan/mpl013\n709076        10.1016/j.intell.2014.05.007\n709247         10.1016/j.ssmph.2019.100526\nName: DOIs, Length: 1701, dtype: object"
     },
     "execution_count": 6,
     "metadata": {},
     "output_type": "execute_result"
    }
   ],
   "source": [
    "comments_df[\"DOIs\"][~comments_df[\"DOIs\"].isna()]"
   ]
  },
  {
   "cell_type": "code",
   "execution_count": 16,
   "outputs": [
    {
     "data": {
      "text/plain": "              Id  PostHistoryTypeId  PostId  \\\n42530      47930                  1   16198   \n649          685                  2     321   \n932         1009                  2     473   \n948         1026                  5     483   \n1123        1207                  2     573   \n...          ...                ...     ...   \n1344435  2180684                  2  566611   \n1344460  2180721                  2  566620   \n1344740  2181117                  2  566699   \n1344939  2181519                  5  566656   \n1345104  2181751                  5  566804   \n\n                                 RevisionGUID             CreationDate  \\\n42530    f2d5ed7a-52d0-4831-8056-d337bd96ac72  2009-02-02T14:21:12.103   \n649      4e355f03-d3bf-4665-a1e7-c971a64ccb82  2010-07-20T16:01:25.590   \n932      c7d165c3-d32d-4735-bdfb-0edbda47109e  2010-07-22T02:37:18.820   \n948      e7232a29-6bea-4ea0-ac51-858f870898a3  2010-07-22T10:04:38.557   \n1123     146975c9-a714-4bbd-8870-2800eb46f32d  2010-07-23T19:45:45.270   \n...                                       ...                      ...   \n1344435  18ba5d12-3a99-42bf-b66c-538ee51c8dc0  2022-03-04T09:12:38.957   \n1344460  fc718bf5-ad5a-42fa-a7d0-ce69173ae1e3  2022-03-04T10:09:04.723   \n1344740  30720f0e-93f1-44d6-8790-55dd78f360df  2022-03-04T23:29:54.257   \n1344939  be22fb5e-c0e9-499d-9697-25c491629d5e  2022-03-05T15:40:41.553   \n1345104  ddf8e6dc-8dc3-441d-8b2c-1f4de414c1bd  2022-03-06T00:25:03.517   \n\n           UserId                                               Text  \\\n42530    112726.0  What is an Average that does not include outli...   \n649         220.0  There is a variant of boosting called [gentleb...   \n932         260.0  The traditional solution to this problem is to...   \n948           NaN  The main idea is the bagging procedure, not ma...   \n1123        190.0  In \"[Convolutional deep belief networks for sc...   \n...           ...                                                ...   \n1344435  351083.0  I am trying to carry out a Monte Carlo simulat...   \n1344460  240280.0  According to [1], $P(s=1|z)$ --- the probabili...   \n1344740  143790.0  Is there an implementation of the Behrens-Fish...   \n1344939   28500.0  In H.Putter & H.C. van Houwelingen's paper\\r\\n...   \n1345104  129321.0  Fisher scoring is one of the most commonly-use...   \n\n        ContentLicense                       Comment UserDisplayName  \\\n42530     CC BY-SA 2.5                          None          Tawani   \n649       CC BY-SA 2.5                          None            None   \n932       CC BY-SA 2.5                          None            None   \n948       CC BY-SA 2.5  added 303 characters in body          user88   \n1123      CC BY-SA 2.5                          None            None   \n...                ...                           ...             ...   \n1344435   CC BY-SA 4.0                          None            None   \n1344460   CC BY-SA 4.0                          None            None   \n1344740   CC BY-SA 4.0                          None            None   \n1344939   CC BY-SA 4.0           added link to paper            None   \n1345104   CC BY-SA 4.0  added 229 characters in body            None   \n\n                                         DOIs LinkTitle LinkURL  \n42530                                     NaN       NaN     NaN  \n649                    10.1214/aos/1016218223       NaN     NaN  \n932                 10.1137/S0036144598347035       NaN     NaN  \n948                 10.1007/s10994-006-6226-1       NaN     NaN  \n1123                  10.1145/1553374.1553453       NaN     NaN  \n...                                       ...       ...     ...  \n1344435                       10.1038/nrn3475       NaN     NaN  \n1344460           10.1007/978-3-540-87987-9_8       NaN     NaN  \n1344740           10.1007/978-3-030-42196-0_9       NaN     NaN  \n1344939             10.1007/s12561-016-9157-9       NaN     NaN  \n1345104  10.1002/9781118445112.stat05030.pub2       NaN     NaN  \n\n[4310 rows x 13 columns]",
      "text/html": "<div>\n<style scoped>\n    .dataframe tbody tr th:only-of-type {\n        vertical-align: middle;\n    }\n\n    .dataframe tbody tr th {\n        vertical-align: top;\n    }\n\n    .dataframe thead th {\n        text-align: right;\n    }\n</style>\n<table border=\"1\" class=\"dataframe\">\n  <thead>\n    <tr style=\"text-align: right;\">\n      <th></th>\n      <th>Id</th>\n      <th>PostHistoryTypeId</th>\n      <th>PostId</th>\n      <th>RevisionGUID</th>\n      <th>CreationDate</th>\n      <th>UserId</th>\n      <th>Text</th>\n      <th>ContentLicense</th>\n      <th>Comment</th>\n      <th>UserDisplayName</th>\n      <th>DOIs</th>\n      <th>LinkTitle</th>\n      <th>LinkURL</th>\n    </tr>\n  </thead>\n  <tbody>\n    <tr>\n      <th>42530</th>\n      <td>47930</td>\n      <td>1</td>\n      <td>16198</td>\n      <td>f2d5ed7a-52d0-4831-8056-d337bd96ac72</td>\n      <td>2009-02-02T14:21:12.103</td>\n      <td>112726.0</td>\n      <td>What is an Average that does not include outli...</td>\n      <td>CC BY-SA 2.5</td>\n      <td>None</td>\n      <td>Tawani</td>\n      <td>NaN</td>\n      <td>NaN</td>\n      <td>NaN</td>\n    </tr>\n    <tr>\n      <th>649</th>\n      <td>685</td>\n      <td>2</td>\n      <td>321</td>\n      <td>4e355f03-d3bf-4665-a1e7-c971a64ccb82</td>\n      <td>2010-07-20T16:01:25.590</td>\n      <td>220.0</td>\n      <td>There is a variant of boosting called [gentleb...</td>\n      <td>CC BY-SA 2.5</td>\n      <td>None</td>\n      <td>None</td>\n      <td>10.1214/aos/1016218223</td>\n      <td>NaN</td>\n      <td>NaN</td>\n    </tr>\n    <tr>\n      <th>932</th>\n      <td>1009</td>\n      <td>2</td>\n      <td>473</td>\n      <td>c7d165c3-d32d-4735-bdfb-0edbda47109e</td>\n      <td>2010-07-22T02:37:18.820</td>\n      <td>260.0</td>\n      <td>The traditional solution to this problem is to...</td>\n      <td>CC BY-SA 2.5</td>\n      <td>None</td>\n      <td>None</td>\n      <td>10.1137/S0036144598347035</td>\n      <td>NaN</td>\n      <td>NaN</td>\n    </tr>\n    <tr>\n      <th>948</th>\n      <td>1026</td>\n      <td>5</td>\n      <td>483</td>\n      <td>e7232a29-6bea-4ea0-ac51-858f870898a3</td>\n      <td>2010-07-22T10:04:38.557</td>\n      <td>NaN</td>\n      <td>The main idea is the bagging procedure, not ma...</td>\n      <td>CC BY-SA 2.5</td>\n      <td>added 303 characters in body</td>\n      <td>user88</td>\n      <td>10.1007/s10994-006-6226-1</td>\n      <td>NaN</td>\n      <td>NaN</td>\n    </tr>\n    <tr>\n      <th>1123</th>\n      <td>1207</td>\n      <td>2</td>\n      <td>573</td>\n      <td>146975c9-a714-4bbd-8870-2800eb46f32d</td>\n      <td>2010-07-23T19:45:45.270</td>\n      <td>190.0</td>\n      <td>In \"[Convolutional deep belief networks for sc...</td>\n      <td>CC BY-SA 2.5</td>\n      <td>None</td>\n      <td>None</td>\n      <td>10.1145/1553374.1553453</td>\n      <td>NaN</td>\n      <td>NaN</td>\n    </tr>\n    <tr>\n      <th>...</th>\n      <td>...</td>\n      <td>...</td>\n      <td>...</td>\n      <td>...</td>\n      <td>...</td>\n      <td>...</td>\n      <td>...</td>\n      <td>...</td>\n      <td>...</td>\n      <td>...</td>\n      <td>...</td>\n      <td>...</td>\n      <td>...</td>\n    </tr>\n    <tr>\n      <th>1344435</th>\n      <td>2180684</td>\n      <td>2</td>\n      <td>566611</td>\n      <td>18ba5d12-3a99-42bf-b66c-538ee51c8dc0</td>\n      <td>2022-03-04T09:12:38.957</td>\n      <td>351083.0</td>\n      <td>I am trying to carry out a Monte Carlo simulat...</td>\n      <td>CC BY-SA 4.0</td>\n      <td>None</td>\n      <td>None</td>\n      <td>10.1038/nrn3475</td>\n      <td>NaN</td>\n      <td>NaN</td>\n    </tr>\n    <tr>\n      <th>1344460</th>\n      <td>2180721</td>\n      <td>2</td>\n      <td>566620</td>\n      <td>fc718bf5-ad5a-42fa-a7d0-ce69173ae1e3</td>\n      <td>2022-03-04T10:09:04.723</td>\n      <td>240280.0</td>\n      <td>According to [1], $P(s=1|z)$ --- the probabili...</td>\n      <td>CC BY-SA 4.0</td>\n      <td>None</td>\n      <td>None</td>\n      <td>10.1007/978-3-540-87987-9_8</td>\n      <td>NaN</td>\n      <td>NaN</td>\n    </tr>\n    <tr>\n      <th>1344740</th>\n      <td>2181117</td>\n      <td>2</td>\n      <td>566699</td>\n      <td>30720f0e-93f1-44d6-8790-55dd78f360df</td>\n      <td>2022-03-04T23:29:54.257</td>\n      <td>143790.0</td>\n      <td>Is there an implementation of the Behrens-Fish...</td>\n      <td>CC BY-SA 4.0</td>\n      <td>None</td>\n      <td>None</td>\n      <td>10.1007/978-3-030-42196-0_9</td>\n      <td>NaN</td>\n      <td>NaN</td>\n    </tr>\n    <tr>\n      <th>1344939</th>\n      <td>2181519</td>\n      <td>5</td>\n      <td>566656</td>\n      <td>be22fb5e-c0e9-499d-9697-25c491629d5e</td>\n      <td>2022-03-05T15:40:41.553</td>\n      <td>28500.0</td>\n      <td>In H.Putter &amp; H.C. van Houwelingen's paper\\r\\n...</td>\n      <td>CC BY-SA 4.0</td>\n      <td>added link to paper</td>\n      <td>None</td>\n      <td>10.1007/s12561-016-9157-9</td>\n      <td>NaN</td>\n      <td>NaN</td>\n    </tr>\n    <tr>\n      <th>1345104</th>\n      <td>2181751</td>\n      <td>5</td>\n      <td>566804</td>\n      <td>ddf8e6dc-8dc3-441d-8b2c-1f4de414c1bd</td>\n      <td>2022-03-06T00:25:03.517</td>\n      <td>129321.0</td>\n      <td>Fisher scoring is one of the most commonly-use...</td>\n      <td>CC BY-SA 4.0</td>\n      <td>added 229 characters in body</td>\n      <td>None</td>\n      <td>10.1002/9781118445112.stat05030.pub2</td>\n      <td>NaN</td>\n      <td>NaN</td>\n    </tr>\n  </tbody>\n</table>\n<p>4310 rows × 13 columns</p>\n</div>"
     },
     "execution_count": 16,
     "metadata": {},
     "output_type": "execute_result"
    }
   ],
   "source": [
    "posthistory_df.sort_values('CreationDate').drop_duplicates(subset=[\"DOIs\"])"
   ],
   "metadata": {
    "collapsed": false,
    "pycharm": {
     "name": "#%%\n"
    }
   }
  },
  {
   "cell_type": "code",
   "execution_count": null,
   "outputs": [],
   "source": [],
   "metadata": {
    "collapsed": false,
    "pycharm": {
     "name": "#%%\n"
    }
   }
  }
 ],
 "metadata": {
  "interpreter": {
   "hash": "d90a414a488e941f20e99ff8786fb82b27c42e5505b6041d831ced9d0f05b18b"
  },
  "kernelspec": {
   "display_name": "Python 3.10.4 ('KE')",
   "language": "python",
   "name": "python3"
  },
  "language_info": {
   "codemirror_mode": {
    "name": "ipython",
    "version": 3
   },
   "file_extension": ".py",
   "mimetype": "text/x-python",
   "name": "python",
   "nbconvert_exporter": "python",
   "pygments_lexer": "ipython3",
   "version": "3.10.4"
  },
  "orig_nbformat": 4
 },
 "nbformat": 4,
 "nbformat_minor": 2
}