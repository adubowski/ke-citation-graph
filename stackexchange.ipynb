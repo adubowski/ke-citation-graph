{
 "cells": [
  {
   "cell_type": "code",
   "execution_count": 34,
   "metadata": {},
   "outputs": [],
   "source": [
    "import pandas as pd\n",
    "import re"
   ]
  },
  {
   "cell_type": "code",
   "execution_count": 45,
   "metadata": {},
   "outputs": [],
   "source": [
    "def process_stackexchange(board: str) -> list[pd.DataFrame]:\n",
    "    \"\"\"_summary_\n",
    "\n",
    "    Args:\n",
    "        board (str): Stackexchange board to load. Expected file structure is \n",
    "            ./data/`board`/*.xml\n",
    "\n",
    "    Returns:\n",
    "        list[pd.DataFrame]: List of pandas dataframes with Comments and \n",
    "            PostHistory data with extracted DOIs and markdown links.\n",
    "    \"\"\"\n",
    "    # Regex patterns\n",
    "    DOI_PATTERN = \"(10\\.\\d{4,9}/[-._;()/:A-Z0-9]+[/A-Z0-9])\" \n",
    "    MD_PATTERN = \"\\[([\\w\\s\\d]+)\\]\\((https?:\\/\\/[\\w\\d./?=#]+)\\)\"\n",
    "\n",
    "    def process_set(set: str) -> pd.DataFrame:\n",
    "        \"\"\"Processes single file in board data\n",
    "\n",
    "        Args:\n",
    "            set (str): One of \"Comments\" or \"PostHistory\"\n",
    "\n",
    "        Returns:\n",
    "            pd.DataFrame: Original data with extracted DOIs and markdown links\n",
    "        \"\"\"       \n",
    "        # Load xml file \n",
    "        path = f\"data/{board}/{set}.xml\"\n",
    "        with open(path, encoding=\"utf8\") as file:\n",
    "            df = pd.read_xml(file.read())\n",
    "\n",
    "        # Extract DOIs\n",
    "        df[\"DOIs\"] = df[\"Text\"].str.extract(pat=DOI_PATTERN, flags=re.IGNORECASE)\n",
    "\n",
    "        # Extract markdown links\n",
    "        markdown_df = df[\"Text\"].str.extract(pat=MD_PATTERN)\n",
    "        markdown_df.columns = [\"LinkTitle\", \"LinkURL\"]\n",
    "\n",
    "        return pd.concat([df, markdown_df], axis=1)\n",
    "\n",
    "\n",
    "    return process_set(\"Comments\"), process_set(\"PostHistory\")\n"
   ]
  },
  {
   "cell_type": "code",
   "execution_count": 46,
   "metadata": {},
   "outputs": [],
   "source": [
    "comments_df, posthistory_df = process_stackexchange(\"ai\")"
   ]
  },
  {
   "cell_type": "code",
   "execution_count": 47,
   "metadata": {},
   "outputs": [
    {
     "data": {
      "text/plain": [
       "58            10.3389/fnins.2015.00217\n",
       "4655      10.1371/journal.pcbi.1003024\n",
       "6142         10.1007/s10994-005-0916-y\n",
       "7528       10.1007/978-3-319-77553-1_9\n",
       "8211     10.1007/978-3-540-85984-0_113\n",
       "11446          10.1145/3379247.3379276\n",
       "11449    10.3389/fninf.2019.00053/full\n",
       "12377        10.1007/s00766-007-0045-1\n",
       "12517        10.1109/ICRA.2018.8461044\n",
       "13713             10.1162/NECO_a_00949\n",
       "14450             10.1162/isal_a_00197\n",
       "14868        10.1186/s40537-019-0197-0\n",
       "15063     10.1007/978-3-642-35289-8_36\n",
       "15369           10.1007/BF00992696.pdf\n",
       "15546           10.1007/BF00849065.pdf\n",
       "16482          10.1145/2212908.2212954\n",
       "16988        10.1016/j.tcs.2009.08.027\n",
       "20067        10.1109/TEVC.2021.3060014\n",
       "20177    10.1080/13658816.2018.1542698\n",
       "20715            10.1145/321186.321193\n",
       "21306           10.1186/1471-2105-11-9\n",
       "Name: DOIs, dtype: object"
      ]
     },
     "execution_count": 47,
     "metadata": {},
     "output_type": "execute_result"
    }
   ],
   "source": [
    "comments_df[\"DOIs\"][~comments_df[\"DOIs\"].isna()]"
   ]
  }
 ],
 "metadata": {
  "interpreter": {
   "hash": "d90a414a488e941f20e99ff8786fb82b27c42e5505b6041d831ced9d0f05b18b"
  },
  "kernelspec": {
   "display_name": "Python 3.10.4 ('KE')",
   "language": "python",
   "name": "python3"
  },
  "language_info": {
   "codemirror_mode": {
    "name": "ipython",
    "version": 3
   },
   "file_extension": ".py",
   "mimetype": "text/x-python",
   "name": "python",
   "nbconvert_exporter": "python",
   "pygments_lexer": "ipython3",
   "version": "3.10.4"
  },
  "orig_nbformat": 4
 },
 "nbformat": 4,
 "nbformat_minor": 2
}
