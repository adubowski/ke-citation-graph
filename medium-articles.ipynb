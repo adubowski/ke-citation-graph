{
 "cells": [
  {
   "cell_type": "code",
   "execution_count": 1,
   "metadata": {},
   "outputs": [],
   "source": [
    "import pandas as pd"
   ]
  },
  {
   "cell_type": "code",
   "execution_count": 2,
   "metadata": {},
   "outputs": [],
   "source": [
    "medium_articles = pd.read_csv(\"medium_articles.csv\")"
   ]
  },
  {
   "cell_type": "code",
   "execution_count": 14,
   "metadata": {},
   "outputs": [
    {
     "data": {
      "text/plain": [
       "'All the Love you do not see\\n\\nOn writing with heart and hope\\n\\nPhoto by JOSHUA COLEMAN on Unsplash\\n\\nThe words I do not recognize are the ones my heart wrote, so feverish with hope every line feels like a hallucination.\\n\\nAnd yet, these moments happened and still happen, everything is true. Suddenly, life is poetry and joy opens up portal into new universes that leave you speechless. Unless you surrender to it, you cannot experience awe; that surrender is not verbal. Transcription takes place well after the facts and always feels like an unreliable witness account.\\n\\nFinding yourself writing love letters to life as a chronic depressive freelancer on the verge of financial collapse is weird but I’m here for it. Against the stark backdrop of death and destruction, life is more beautiful than ever, and I am, dare I say it, content.\\n\\nThere is so much gentleness in the generosity of acceptance, it frees up mental bandwidth for everything else. The moment is as impermanent as life. To not celebrate it would be an affront to hope, the same hope that has seen me through everything so far.\\n\\nI shouldn’t be here anymore but I am. Despair has shades and nuances, hope is blinding, and I have been dazed and confused since I set aside the past and embraced the present almost two years ago.\\n\\nHope is the blank page beckoning your heart to release its findings.\\n\\nSo others might benefit from them.'"
      ]
     },
     "execution_count": 14,
     "metadata": {},
     "output_type": "execute_result"
    }
   ],
   "source": [
    "medium_articles.iloc[47][\"text\"]"
   ]
  },
  {
   "cell_type": "code",
   "execution_count": 11,
   "metadata": {},
   "outputs": [
    {
     "data": {
      "text/html": [
       "<div>\n",
       "<style scoped>\n",
       "    .dataframe tbody tr th:only-of-type {\n",
       "        vertical-align: middle;\n",
       "    }\n",
       "\n",
       "    .dataframe tbody tr th {\n",
       "        vertical-align: top;\n",
       "    }\n",
       "\n",
       "    .dataframe thead th {\n",
       "        text-align: right;\n",
       "    }\n",
       "</style>\n",
       "<table border=\"1\" class=\"dataframe\">\n",
       "  <thead>\n",
       "    <tr style=\"text-align: right;\">\n",
       "      <th></th>\n",
       "      <th>title</th>\n",
       "      <th>text</th>\n",
       "      <th>url</th>\n",
       "      <th>authors</th>\n",
       "      <th>timestamp</th>\n",
       "      <th>tags</th>\n",
       "    </tr>\n",
       "  </thead>\n",
       "  <tbody>\n",
       "    <tr>\n",
       "      <th>46</th>\n",
       "      <td>Thoughts on a medical mystery</td>\n",
       "      <td>Thoughts on a medical mystery\\n\\nHow brains le...</td>\n",
       "      <td>https://medium.com/the-spike/thoughts-on-a-med...</td>\n",
       "      <td>['Kelly Clancy']</td>\n",
       "      <td>2019-06-13 12:26:36.896000+00:00</td>\n",
       "      <td>['Neuroscience', 'Health', 'Science', 'Psychol...</td>\n",
       "    </tr>\n",
       "    <tr>\n",
       "      <th>51</th>\n",
       "      <td>Walking Is Underrated: The Unappreciated Compl...</td>\n",
       "      <td>Walking Is Underrated: The Unappreciated Compl...</td>\n",
       "      <td>https://medium.com/in-fitness-and-in-health/wa...</td>\n",
       "      <td>['Eshan Samaranayake']</td>\n",
       "      <td>2020-12-22 02:58:38.151000+00:00</td>\n",
       "      <td>['Mental Health', 'Health', 'Neuroscience', 'S...</td>\n",
       "    </tr>\n",
       "    <tr>\n",
       "      <th>53</th>\n",
       "      <td>The Sustainable Element-Technology Nexus that ...</td>\n",
       "      <td>The Sustainable Element-Technology Nexus that ...</td>\n",
       "      <td>https://medium.com/climate-conscious/the-susta...</td>\n",
       "      <td>['Sophia Nynnat']</td>\n",
       "      <td>2020-10-12 19:22:43.079000+00:00</td>\n",
       "      <td>['Technology', 'Sustainability', 'Health', 'En...</td>\n",
       "    </tr>\n",
       "    <tr>\n",
       "      <th>103</th>\n",
       "      <td>Write for Towards Data Science</td>\n",
       "      <td>Guidelines\\n\\nHow to get your article ready fo...</td>\n",
       "      <td>https://towardsdatascience.com/questions-96667...</td>\n",
       "      <td>['Tds Editors']</td>\n",
       "      <td>2020-12-12 23:54:52.970000+00:00</td>\n",
       "      <td>['Writers’ Guide', 'Join Us', 'Tds Team', 'Wri...</td>\n",
       "    </tr>\n",
       "    <tr>\n",
       "      <th>180</th>\n",
       "      <td>Empower a Lightweight Python Data Structure: F...</td>\n",
       "      <td>Tuple\\n\\nWhen it comes to dealing with related...</td>\n",
       "      <td>https://medium.com/swlh/empower-a-lightweight-...</td>\n",
       "      <td>['Yong Cui']</td>\n",
       "      <td>2020-05-02 11:01:01.048000+00:00</td>\n",
       "      <td>['Programming', 'Software Engineering', 'Artif...</td>\n",
       "    </tr>\n",
       "    <tr>\n",
       "      <th>...</th>\n",
       "      <td>...</td>\n",
       "      <td>...</td>\n",
       "      <td>...</td>\n",
       "      <td>...</td>\n",
       "      <td>...</td>\n",
       "      <td>...</td>\n",
       "    </tr>\n",
       "    <tr>\n",
       "      <th>191255</th>\n",
       "      <td>Sanders for President as an Independent?</td>\n",
       "      <td>Sanders for President as an Independent?\\n\\nTh...</td>\n",
       "      <td>https://medium.com/@robert.david.steele.vivas/...</td>\n",
       "      <td>[]</td>\n",
       "      <td>2015-12-19 16:21:12.568000+00:00</td>\n",
       "      <td>['Bernie Sanders', 'Independent', '2016 Electi...</td>\n",
       "    </tr>\n",
       "    <tr>\n",
       "      <th>191636</th>\n",
       "      <td>How to create a 3D model of a photo using Pyth...</td>\n",
       "      <td>How to create a 3D model of a photo using Pyth...</td>\n",
       "      <td>https://medium.com/@codemental/how-to-create-a...</td>\n",
       "      <td>['Armindo Cachada']</td>\n",
       "      <td>2020-10-17 09:31:20.227000+00:00</td>\n",
       "      <td>['Programming', 'Python', 'Numpy', 'Blender', ...</td>\n",
       "    </tr>\n",
       "    <tr>\n",
       "      <th>191817</th>\n",
       "      <td>VRM as Agency</td>\n",
       "      <td>VRM as Agency\\n\\nMost of us understand agency ...</td>\n",
       "      <td>https://medium.com/pde-cc/vrm-as-agency-d6fa4a...</td>\n",
       "      <td>['David E Alexander']</td>\n",
       "      <td>2017-01-10 18:40:50.895000+00:00</td>\n",
       "      <td>['News', 'Problems', 'CRM', 'Open Source']</td>\n",
       "    </tr>\n",
       "    <tr>\n",
       "      <th>192235</th>\n",
       "      <td>Netty at Layer: Powering Client API</td>\n",
       "      <td>Netty at Layer: Powering Client API\\n\\nModern ...</td>\n",
       "      <td>https://medium.com/@mubarak.seyed/netty-at-lay...</td>\n",
       "      <td>['Mubarak Seyed']</td>\n",
       "      <td>2015-10-21 17:05:08.417000+00:00</td>\n",
       "      <td>['API', 'Platform', 'Messaging']</td>\n",
       "    </tr>\n",
       "    <tr>\n",
       "      <th>192306</th>\n",
       "      <td>Estate Jewelry: Dead Cromwell Edition</td>\n",
       "      <td>Estate Jewelry: Dead Cromwell Edition\\n\\nHi al...</td>\n",
       "      <td>https://medium.com/the-hairpin/estate-jewelry-...</td>\n",
       "      <td>['Monica Mclaughlin']</td>\n",
       "      <td>2016-06-02 05:58:41.466000+00:00</td>\n",
       "      <td>['Jewelry', 'Auctions']</td>\n",
       "    </tr>\n",
       "  </tbody>\n",
       "</table>\n",
       "<p>6017 rows × 6 columns</p>\n",
       "</div>"
      ],
      "text/plain": [
       "                                                    title  \\\n",
       "46                          Thoughts on a medical mystery   \n",
       "51      Walking Is Underrated: The Unappreciated Compl...   \n",
       "53      The Sustainable Element-Technology Nexus that ...   \n",
       "103                        Write for Towards Data Science   \n",
       "180     Empower a Lightweight Python Data Structure: F...   \n",
       "...                                                   ...   \n",
       "191255           Sanders for President as an Independent?   \n",
       "191636  How to create a 3D model of a photo using Pyth...   \n",
       "191817                                      VRM as Agency   \n",
       "192235                Netty at Layer: Powering Client API   \n",
       "192306              Estate Jewelry: Dead Cromwell Edition   \n",
       "\n",
       "                                                     text  \\\n",
       "46      Thoughts on a medical mystery\\n\\nHow brains le...   \n",
       "51      Walking Is Underrated: The Unappreciated Compl...   \n",
       "53      The Sustainable Element-Technology Nexus that ...   \n",
       "103     Guidelines\\n\\nHow to get your article ready fo...   \n",
       "180     Tuple\\n\\nWhen it comes to dealing with related...   \n",
       "...                                                   ...   \n",
       "191255  Sanders for President as an Independent?\\n\\nTh...   \n",
       "191636  How to create a 3D model of a photo using Pyth...   \n",
       "191817  VRM as Agency\\n\\nMost of us understand agency ...   \n",
       "192235  Netty at Layer: Powering Client API\\n\\nModern ...   \n",
       "192306  Estate Jewelry: Dead Cromwell Edition\\n\\nHi al...   \n",
       "\n",
       "                                                      url  \\\n",
       "46      https://medium.com/the-spike/thoughts-on-a-med...   \n",
       "51      https://medium.com/in-fitness-and-in-health/wa...   \n",
       "53      https://medium.com/climate-conscious/the-susta...   \n",
       "103     https://towardsdatascience.com/questions-96667...   \n",
       "180     https://medium.com/swlh/empower-a-lightweight-...   \n",
       "...                                                   ...   \n",
       "191255  https://medium.com/@robert.david.steele.vivas/...   \n",
       "191636  https://medium.com/@codemental/how-to-create-a...   \n",
       "191817  https://medium.com/pde-cc/vrm-as-agency-d6fa4a...   \n",
       "192235  https://medium.com/@mubarak.seyed/netty-at-lay...   \n",
       "192306  https://medium.com/the-hairpin/estate-jewelry-...   \n",
       "\n",
       "                       authors                         timestamp  \\\n",
       "46            ['Kelly Clancy']  2019-06-13 12:26:36.896000+00:00   \n",
       "51      ['Eshan Samaranayake']  2020-12-22 02:58:38.151000+00:00   \n",
       "53           ['Sophia Nynnat']  2020-10-12 19:22:43.079000+00:00   \n",
       "103            ['Tds Editors']  2020-12-12 23:54:52.970000+00:00   \n",
       "180               ['Yong Cui']  2020-05-02 11:01:01.048000+00:00   \n",
       "...                        ...                               ...   \n",
       "191255                      []  2015-12-19 16:21:12.568000+00:00   \n",
       "191636     ['Armindo Cachada']  2020-10-17 09:31:20.227000+00:00   \n",
       "191817   ['David E Alexander']  2017-01-10 18:40:50.895000+00:00   \n",
       "192235       ['Mubarak Seyed']  2015-10-21 17:05:08.417000+00:00   \n",
       "192306   ['Monica Mclaughlin']  2016-06-02 05:58:41.466000+00:00   \n",
       "\n",
       "                                                     tags  \n",
       "46      ['Neuroscience', 'Health', 'Science', 'Psychol...  \n",
       "51      ['Mental Health', 'Health', 'Neuroscience', 'S...  \n",
       "53      ['Technology', 'Sustainability', 'Health', 'En...  \n",
       "103     ['Writers’ Guide', 'Join Us', 'Tds Team', 'Wri...  \n",
       "180     ['Programming', 'Software Engineering', 'Artif...  \n",
       "...                                                   ...  \n",
       "191255  ['Bernie Sanders', 'Independent', '2016 Electi...  \n",
       "191636  ['Programming', 'Python', 'Numpy', 'Blender', ...  \n",
       "191817         ['News', 'Problems', 'CRM', 'Open Source']  \n",
       "192235                   ['API', 'Platform', 'Messaging']  \n",
       "192306                            ['Jewelry', 'Auctions']  \n",
       "\n",
       "[6017 rows x 6 columns]"
      ]
     },
     "execution_count": 11,
     "metadata": {},
     "output_type": "execute_result"
    }
   ],
   "source": [
    "medium_articles[medium_articles[\"text\"].str.contains(\"\\[\\d*\\]\", regex=True)]"
   ]
  },
  {
   "cell_type": "code",
   "execution_count": 5,
   "metadata": {},
   "outputs": [
    {
     "name": "stdout",
     "output_type": "stream",
     "text": [
      "2179\n"
     ]
    }
   ],
   "source": [
    "print(medium_articles[\"text\"].str.contains(\"\\(.*, \\d{4}\\)\", regex=True).sum())"
   ]
  },
  {
   "cell_type": "code",
   "execution_count": 3,
   "metadata": {},
   "outputs": [
    {
     "name": "stdout",
     "output_type": "stream",
     "text": [
      "6017\n"
     ]
    }
   ],
   "source": [
    "print(medium_articles[\"text\"].str.contains(\"\\[\\d*\\]\", regex=True).sum())"
   ]
  }
 ],
 "metadata": {
  "interpreter": {
   "hash": "3acfef7138f70d2429ae48cbaca4cc964d0577b5663fbd0bd04cb7bf77da6df6"
  },
  "kernelspec": {
   "display_name": "Python 3.9.7 ('maat-dev')",
   "language": "python",
   "name": "python3"
  },
  "language_info": {
   "codemirror_mode": {
    "name": "ipython",
    "version": 3
   },
   "file_extension": ".py",
   "mimetype": "text/x-python",
   "name": "python",
   "nbconvert_exporter": "python",
   "pygments_lexer": "ipython3",
   "version": "3.9.7"
  },
  "orig_nbformat": 4
 },
 "nbformat": 4,
 "nbformat_minor": 2
}
