{
 "cells": [
  {
   "cell_type": "code",
   "execution_count": 46,
   "outputs": [],
   "source": [
    "import pandas as pd\n",
    "import json\n",
    "from tqdm import tqdm"
   ],
   "metadata": {
    "collapsed": false,
    "pycharm": {
     "name": "#%%\n"
    }
   }
  },
  {
   "cell_type": "code",
   "execution_count": 47,
   "outputs": [],
   "source": [
    "# Database wrapper from: https://towardsdatascience.com/create-a-graph-database-in-neo4j-using-python-4172d40f89c4\n",
    "from neo4j import GraphDatabase\n",
    "\n",
    "\n",
    "class Neo4jConnection:\n",
    "\n",
    "    def __init__(self, uri, user, pwd):\n",
    "        self.__uri = uri\n",
    "        self.__user = user\n",
    "        self.__pwd = pwd\n",
    "        self.__driver = None\n",
    "        try:\n",
    "            self.__driver = GraphDatabase.driver(self.__uri, auth=(self.__user, self.__pwd))\n",
    "        except Exception as e:\n",
    "            print(\"Failed to create the driver:\", e)\n",
    "\n",
    "    def close(self):\n",
    "        if self.__driver is not None:\n",
    "            self.__driver.close()\n",
    "\n",
    "    def query(self, query, parameters=None, db=None):\n",
    "        assert self.__driver is not None, \"Driver not initialized!\"\n",
    "        session = None\n",
    "        response = None\n",
    "        try:\n",
    "            session = self.__driver.session(database=db) if db is not None else self.__driver.session()\n",
    "            response = list(session.run(query, parameters))\n",
    "        except Exception as e:\n",
    "            print(\"Query failed:\", e)\n",
    "        finally:\n",
    "            if session is not None:\n",
    "                session.close()\n",
    "        return response\n",
    "\n",
    "port = 7687 # Check if is the case for your server!\n",
    "\n",
    "conn = Neo4jConnection(uri=\"bolt://localhost:\"+str(port),\n",
    "                       user=\"driver\",\n",
    "                       pwd=\"driver\")"
   ],
   "metadata": {
    "collapsed": false,
    "pycharm": {
     "name": "#%%\n"
    }
   }
  },
  {
   "cell_type": "code",
   "execution_count": 48,
   "outputs": [],
   "source": [
    "import time\n",
    "\n",
    "\n",
    "def insert_data(query, rows, batch_size = 10000):\n",
    "    # Function to handle the updating the Neo4j database in batch mode.\n",
    "\n",
    "    total = 0\n",
    "    batch = 0\n",
    "    start = time.time()\n",
    "    result = None\n",
    "\n",
    "    while batch * batch_size < len(rows):\n",
    "        batch_start = time.time()\n",
    "        res = conn.query(query,\n",
    "                         parameters = {'rows': rows[batch*batch_size:(batch+1)*batch_size].to_dict('records')})\n",
    "        total += res[0]['total']\n",
    "        batch += 1\n",
    "        result = {\"batch_size\": batch_size,\n",
    "                  \"batches_done\": batch,\n",
    "                  \"batch_time\": time.time() - batch_start,\n",
    "                  \"total_time\": time.time()-start}\n",
    "        print(result)\n",
    "\n",
    "    return result\n",
    "\n",
    "def add_papers(rows, batch_size=5000):\n",
    "   # Adds paper nodes and relationships (:Author)-[:AUTHORED]-(:Paper), (:Paper)-[:REFERENCES]-(:Paper)\n",
    "   query = '''\n",
    "    // Create papers\n",
    "    UNWIND $rows as paper\n",
    "    MERGE (p:Paper {paperid: paper.id})\n",
    "    ON CREATE SET\n",
    "    p.title = paper.title,\n",
    "    p.year = paper.year,\n",
    "    p.n_citation = paper.n_citation,\n",
    "    p.doi = paper.doi\n",
    "\n",
    "    // Match authors\n",
    "    WITH paper, p\n",
    "    UNWIND  paper.authors AS author\n",
    "    MERGE (a:Author {authorid: author.id})\n",
    "    ON CREATE SET a.name = author.name\n",
    "    MERGE (a)-[:AUTHORED]->(p)\n",
    "\n",
    "    // Match references\n",
    "    WITH paper, p\n",
    "    UNWIND  paper.references AS refid\n",
    "    MATCH (r:Paper {paperid:refid})\n",
    "    MERGE (p)-[:REFERENCES]->(r)\n",
    "    RETURN count(p:Paper) as total\n",
    "   '''\n",
    "\n",
    "   return insert_data(query, rows, batch_size)"
   ],
   "metadata": {
    "collapsed": false,
    "pycharm": {
     "name": "#%%\n"
    }
   }
  },
  {
   "cell_type": "code",
   "execution_count": 51,
   "outputs": [
    {
     "name": "stderr",
     "output_type": "stream",
     "text": [
      "9999it [00:00, 10176.36it/s]\n"
     ]
    },
    {
     "name": "stdout",
     "output_type": "stream",
     "text": [
      "{'total_inserted': 3, 'batches_done': 1, 'total_time': 4.5319390296936035}\n",
      "{'total_inserted': 3, 'batches_done': 2, 'total_time': 10.221335411071777}\n",
      "{'total_inserted': 9, 'batches_done': 3, 'total_time': 21.46748113632202}\n",
      "{'total_inserted': 15, 'batches_done': 4, 'total_time': 34.82120728492737}\n",
      "{'total_inserted': 15, 'batches_done': 5, 'total_time': 51.59878206253052}\n",
      "{'total_inserted': 20, 'batches_done': 6, 'total_time': 71.70696544647217}\n",
      "{'total_inserted': 32, 'batches_done': 7, 'total_time': 95.49982571601868}\n",
      "{'total_inserted': 32, 'batches_done': 8, 'total_time': 125.41570115089417}\n",
      "{'total_inserted': 49, 'batches_done': 9, 'total_time': 162.8287422657013}\n",
      "{'total_inserted': 60, 'batches_done': 10, 'total_time': 196.98083209991455}\n",
      "{'total_inserted': 72, 'batches_done': 11, 'total_time': 246.89355731010437}\n",
      "{'total_inserted': 81, 'batches_done': 12, 'total_time': 296.36041474342346}\n",
      "{'total_inserted': 93, 'batches_done': 13, 'total_time': 342.64794850349426}\n",
      "{'total_inserted': 107, 'batches_done': 14, 'total_time': 392.8073306083679}\n",
      "{'total_inserted': 113, 'batches_done': 15, 'total_time': 444.3721787929535}\n",
      "{'total_inserted': 128, 'batches_done': 16, 'total_time': 507.00065422058105}\n",
      "{'total_inserted': 146, 'batches_done': 17, 'total_time': 578.3031620979309}\n",
      "{'total_inserted': 154, 'batches_done': 18, 'total_time': 636.5595498085022}\n",
      "{'total_inserted': 159, 'batches_done': 19, 'total_time': 703.3246467113495}\n",
      "{'total_inserted': 173, 'batches_done': 20, 'total_time': 765.1491343975067}\n"
     ]
    },
    {
     "name": "stderr",
     "output_type": "stream",
     "text": [
      "9999it [00:00, 11209.04it/s]\n"
     ]
    },
    {
     "name": "stdout",
     "output_type": "stream",
     "text": [
      "{'total_inserted': 10, 'batches_done': 1, 'total_time': 67.93622064590454}\n",
      "{'total_inserted': 34, 'batches_done': 2, 'total_time': 141.68059134483337}\n",
      "{'total_inserted': 54, 'batches_done': 3, 'total_time': 222.92155408859253}\n",
      "{'total_inserted': 94, 'batches_done': 4, 'total_time': 302.74795722961426}\n",
      "{'total_inserted': 109, 'batches_done': 5, 'total_time': 378.2459383010864}\n",
      "{'total_inserted': 127, 'batches_done': 6, 'total_time': 456.53497982025146}\n",
      "{'total_inserted': 133, 'batches_done': 7, 'total_time': 544.5719645023346}\n",
      "{'total_inserted': 163, 'batches_done': 8, 'total_time': 627.1456837654114}\n",
      "{'total_inserted': 198, 'batches_done': 9, 'total_time': 732.5805420875549}\n",
      "{'total_inserted': 220, 'batches_done': 10, 'total_time': 845.0952622890472}\n",
      "\n"
     ]
    }
   ],
   "source": [
    "file = \"data/dblp_papers_v11.txt\"\n",
    "\n",
    "subset = [\"id\", \"title\", \"year\", \"n_citation\", \"doi\", \"authors\", \"references\"]\n",
    "\n",
    "# TODO: Might be possible to speed up inserts by using just the name for matching instead of ID https://stackoverflow.com/a/23609143/9994398\n",
    "with open(file, 'r') as f:\n",
    "    while True:\n",
    "        try:\n",
    "            lines = 10000\n",
    "            rows  = []\n",
    "            for line in tqdm(f):\n",
    "                rows.append(json.loads(line))\n",
    "                lines -= 1\n",
    "                if lines == 0: break\n",
    "            df = pd.DataFrame(rows)\n",
    "            add_papers(df[subset], 500)\n",
    "        except Exception as e:\n",
    "            print(e)\n",
    "            break"
   ],
   "metadata": {
    "collapsed": false,
    "pycharm": {
     "name": "#%%\n"
    }
   }
  },
  {
   "cell_type": "code",
   "execution_count": 53,
   "outputs": [
    {
     "data": {
      "text/plain": "   Id  PostTypeId  AcceptedAnswerId             CreationDate  Score  \\\n0   1           1              15.0  2010-07-19T19:12:12.510     49   \n1   2           1              59.0  2010-07-19T19:12:57.157     34   \n2   3           1               5.0  2010-07-19T19:13:28.577     71   \n3   4           1             135.0  2010-07-19T19:13:31.617     23   \n4   5           2               NaN  2010-07-19T19:14:43.050     90   \n\n   ViewCount                                               Body  OwnerUserId  \\\n0     5012.0  <p>How should I elicit prior distributions fro...          8.0   \n1    33292.0  <p>In many different statistical methods there...         24.0   \n2     6528.0  <p>What are some valuable Statistical Analysis...         18.0   \n3    43160.0  <p>I have two groups of data.  Each with a dif...         23.0   \n4        NaN  <p>The R-project</p>\\n\\n<p><a href=\"http://www...         23.0   \n\n          LastActivityDate                                              Title  \\\n0  2020-11-05T09:44:51.710                      Eliciting priors from experts   \n1  2022-01-29T15:05:59.723                                 What is normality?   \n2  2013-05-27T14:48:36.927  What are some valuable Statistical Analysis op...   \n3  2010-09-08T03:00:19.690  Assessing the significance of differences in d...   \n4  2010-07-19T19:21:15.063                                               None   \n\n   ... CommentCount  FavoriteCount  ContentLicense  LastEditorDisplayName  \\\n0  ...            1           34.0    CC BY-SA 2.5                   None   \n1  ...            1           12.0    CC BY-SA 2.5                 user88   \n2  ...            3           40.0    CC BY-SA 2.5                   None   \n3  ...            2           12.0    CC BY-SA 2.5                   None   \n4  ...            3            NaN    CC BY-SA 2.5                   None   \n\n              LastEditDate LastEditorUserId       CommunityOwnedDate  \\\n0                     None              NaN                     None   \n1  2010-08-07T17:56:44.800              NaN                     None   \n2  2011-02-12T05:50:03.667            183.0  2010-07-19T19:13:28.577   \n3                     None              NaN                     None   \n4  2010-07-19T19:21:15.063             23.0  2010-07-19T19:14:43.050   \n\n   ParentId ClosedDate  OwnerDisplayName  \n0       NaN       None              None  \n1       NaN       None              None  \n2       NaN       None              None  \n3       NaN       None              None  \n4       3.0       None              None  \n\n[5 rows x 22 columns]",
      "text/html": "<div>\n<style scoped>\n    .dataframe tbody tr th:only-of-type {\n        vertical-align: middle;\n    }\n\n    .dataframe tbody tr th {\n        vertical-align: top;\n    }\n\n    .dataframe thead th {\n        text-align: right;\n    }\n</style>\n<table border=\"1\" class=\"dataframe\">\n  <thead>\n    <tr style=\"text-align: right;\">\n      <th></th>\n      <th>Id</th>\n      <th>PostTypeId</th>\n      <th>AcceptedAnswerId</th>\n      <th>CreationDate</th>\n      <th>Score</th>\n      <th>ViewCount</th>\n      <th>Body</th>\n      <th>OwnerUserId</th>\n      <th>LastActivityDate</th>\n      <th>Title</th>\n      <th>...</th>\n      <th>CommentCount</th>\n      <th>FavoriteCount</th>\n      <th>ContentLicense</th>\n      <th>LastEditorDisplayName</th>\n      <th>LastEditDate</th>\n      <th>LastEditorUserId</th>\n      <th>CommunityOwnedDate</th>\n      <th>ParentId</th>\n      <th>ClosedDate</th>\n      <th>OwnerDisplayName</th>\n    </tr>\n  </thead>\n  <tbody>\n    <tr>\n      <th>0</th>\n      <td>1</td>\n      <td>1</td>\n      <td>15.0</td>\n      <td>2010-07-19T19:12:12.510</td>\n      <td>49</td>\n      <td>5012.0</td>\n      <td>&lt;p&gt;How should I elicit prior distributions fro...</td>\n      <td>8.0</td>\n      <td>2020-11-05T09:44:51.710</td>\n      <td>Eliciting priors from experts</td>\n      <td>...</td>\n      <td>1</td>\n      <td>34.0</td>\n      <td>CC BY-SA 2.5</td>\n      <td>None</td>\n      <td>None</td>\n      <td>NaN</td>\n      <td>None</td>\n      <td>NaN</td>\n      <td>None</td>\n      <td>None</td>\n    </tr>\n    <tr>\n      <th>1</th>\n      <td>2</td>\n      <td>1</td>\n      <td>59.0</td>\n      <td>2010-07-19T19:12:57.157</td>\n      <td>34</td>\n      <td>33292.0</td>\n      <td>&lt;p&gt;In many different statistical methods there...</td>\n      <td>24.0</td>\n      <td>2022-01-29T15:05:59.723</td>\n      <td>What is normality?</td>\n      <td>...</td>\n      <td>1</td>\n      <td>12.0</td>\n      <td>CC BY-SA 2.5</td>\n      <td>user88</td>\n      <td>2010-08-07T17:56:44.800</td>\n      <td>NaN</td>\n      <td>None</td>\n      <td>NaN</td>\n      <td>None</td>\n      <td>None</td>\n    </tr>\n    <tr>\n      <th>2</th>\n      <td>3</td>\n      <td>1</td>\n      <td>5.0</td>\n      <td>2010-07-19T19:13:28.577</td>\n      <td>71</td>\n      <td>6528.0</td>\n      <td>&lt;p&gt;What are some valuable Statistical Analysis...</td>\n      <td>18.0</td>\n      <td>2013-05-27T14:48:36.927</td>\n      <td>What are some valuable Statistical Analysis op...</td>\n      <td>...</td>\n      <td>3</td>\n      <td>40.0</td>\n      <td>CC BY-SA 2.5</td>\n      <td>None</td>\n      <td>2011-02-12T05:50:03.667</td>\n      <td>183.0</td>\n      <td>2010-07-19T19:13:28.577</td>\n      <td>NaN</td>\n      <td>None</td>\n      <td>None</td>\n    </tr>\n    <tr>\n      <th>3</th>\n      <td>4</td>\n      <td>1</td>\n      <td>135.0</td>\n      <td>2010-07-19T19:13:31.617</td>\n      <td>23</td>\n      <td>43160.0</td>\n      <td>&lt;p&gt;I have two groups of data.  Each with a dif...</td>\n      <td>23.0</td>\n      <td>2010-09-08T03:00:19.690</td>\n      <td>Assessing the significance of differences in d...</td>\n      <td>...</td>\n      <td>2</td>\n      <td>12.0</td>\n      <td>CC BY-SA 2.5</td>\n      <td>None</td>\n      <td>None</td>\n      <td>NaN</td>\n      <td>None</td>\n      <td>NaN</td>\n      <td>None</td>\n      <td>None</td>\n    </tr>\n    <tr>\n      <th>4</th>\n      <td>5</td>\n      <td>2</td>\n      <td>NaN</td>\n      <td>2010-07-19T19:14:43.050</td>\n      <td>90</td>\n      <td>NaN</td>\n      <td>&lt;p&gt;The R-project&lt;/p&gt;\\n\\n&lt;p&gt;&lt;a href=\"http://www...</td>\n      <td>23.0</td>\n      <td>2010-07-19T19:21:15.063</td>\n      <td>None</td>\n      <td>...</td>\n      <td>3</td>\n      <td>NaN</td>\n      <td>CC BY-SA 2.5</td>\n      <td>None</td>\n      <td>2010-07-19T19:21:15.063</td>\n      <td>23.0</td>\n      <td>2010-07-19T19:14:43.050</td>\n      <td>3.0</td>\n      <td>None</td>\n      <td>None</td>\n    </tr>\n  </tbody>\n</table>\n<p>5 rows × 22 columns</p>\n</div>"
     },
     "execution_count": 53,
     "metadata": {},
     "output_type": "execute_result"
    }
   ],
   "source": [
    "def get_stack_exchange_df():\n",
    "    path = \"data/Posts.xml\"\n",
    "    with open(path, 'r', encoding='utf8') as f:\n",
    "        try:\n",
    "            raw_data = f.read()\n",
    "        except Exception as e:\n",
    "            print(e)\n",
    "    return pd.read_xml(raw_data)\n",
    "\n",
    "df = get_stack_exchange_df()\n",
    "df.head()"
   ],
   "metadata": {
    "collapsed": false,
    "pycharm": {
     "name": "#%%\n"
    }
   }
  }
 ],
 "metadata": {
  "interpreter": {
   "hash": "3acfef7138f70d2429ae48cbaca4cc964d0577b5663fbd0bd04cb7bf77da6df6"
  },
  "kernelspec": {
   "display_name": "Python 3.9.7 ('maat-dev')",
   "language": "python",
   "name": "python3"
  },
  "language_info": {
   "codemirror_mode": {
    "name": "ipython",
    "version": 3
   },
   "file_extension": ".py",
   "mimetype": "text/x-python",
   "name": "python",
   "nbconvert_exporter": "python",
   "pygments_lexer": "ipython3",
   "version": "3.9.7"
  },
  "orig_nbformat": 4
 },
 "nbformat": 4,
 "nbformat_minor": 2
}