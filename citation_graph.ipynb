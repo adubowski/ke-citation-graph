{
 "cells": [
  {
   "cell_type": "code",
   "execution_count": 19,
   "outputs": [
    {
     "name": "stderr",
     "output_type": "stream",
     "text": [
      "4999it [00:01, 4640.99it/s]\n"
     ]
    }
   ],
   "source": [
    "import pandas as pd\n",
    "import json\n",
    "from tqdm import tqdm\n",
    "\n",
    "\n",
    "# file = \"sample_data/citation_sample.txt\"\n",
    "file = \"data/dblp_papers_v11.txt\"\n",
    "\n",
    "metadata  = []\n",
    "\n",
    "lines = 5000    # 100k for testing\n",
    "\n",
    "with open(file, 'r') as f:\n",
    "\n",
    "    for line in tqdm(f):\n",
    "        metadata.append(json.loads(line))\n",
    "        lines -= 1\n",
    "        if lines == 0: break\n",
    "\n",
    "df = pd.DataFrame(metadata)"
   ],
   "metadata": {
    "collapsed": false,
    "pycharm": {
     "name": "#%%\n"
    }
   }
  },
  {
   "cell_type": "code",
   "execution_count": 20,
   "outputs": [
    {
     "data": {
      "text/plain": "           id                                              title  \\\n0   100001334  Ontologies in HYDRA - Middleware for Ambient I...   \n1  1000018889  Remote Policy Enforcement for Trusted Applicat...   \n2  1000022707  A SIMPLE OBSERVATION REGARDING ITERATIONS OF F...   \n3   100004108  Gait based human identity recognition from mul...   \n4    10000571  The GAME Algorithm Applied to Complex Fraction...   \n\n                                             authors  \\\n0  [{'name': 'Peter Kostelnik', 'id': '2702511795...   \n1  [{'name': 'Fabio Martinelli', 'id': '210743870...   \n2       [{'name': 'Jerzy Mycka', 'id': '263067851'}]   \n3  [{'name': 'Emdad Hossain', 'id': '2017661848',...   \n4  [{'name': 'Pavel Kordík', 'id': '419063071', '...   \n\n                                               venue  year  n_citation  \\\n0                                    {'raw': 'AMIF'}  2009           2   \n1  {'raw': 'international conference on trusted s...  2013           2   \n2  {'raw': 'Reports on Mathematical Logic', 'id':...  2009           0   \n3  {'raw': 'international conference on algorithm...  2012           0   \n4  {'raw': 'international conference on artificia...  2008           5   \n\n  page_start page_end    doc_type                     publisher volume issue  \\\n0         43       46                                                          \n1         70       84  Conference                Springer, Cham                \n2         19       29     Journal                                   44         \n3        319      328  Conference  Springer, Berlin, Heidelberg                \n4        859      868  Conference  Springer, Berlin, Heidelberg                \n\n                                                 fos  \\\n0  [{'name': 'Lernaean Hydra', 'w': 0.4178039}, {...   \n1  [{'name': 'Trusted Computing', 'w': 0.6314859}...   \n2  [{'name': 'Discrete mathematics', 'w': 0.47368...   \n3  [{'name': 'Biometrics', 'w': 0.529778063}, {'n...   \n4  [{'name': 'Pattern recognition', 'w': 0.453429...   \n\n                            doi  \\\n0                           NaN   \n1   10.1007/978-3-319-03491-1_5   \n2                           NaN   \n3  10.1007/978-3-642-33065-0_34   \n4  10.1007/978-3-540-87559-8_89   \n\n                                          references  \\\n0                                                NaN   \n1  [94181602, 1504669610, 1542792105, 1639158619,...   \n2                           [1972178849, 2069792094]   \n3  [1578000111, 2120433720, 2136461127, 213893135...   \n4  [291899685, 1964166287, 2135293965, 2146842127...   \n\n                                    indexed_abstract  \n0                                                NaN  \n1  {'IndexLength': 173, 'InvertedIndex': {'Both':...  \n2  {'IndexLength': 49, 'InvertedIndex': {'A': [0]...  \n3  {'IndexLength': 82, 'InvertedIndex': {'In': [0...  \n4  {'IndexLength': 171, 'InvertedIndex': {'Comple...  ",
      "text/html": "<div>\n<style scoped>\n    .dataframe tbody tr th:only-of-type {\n        vertical-align: middle;\n    }\n\n    .dataframe tbody tr th {\n        vertical-align: top;\n    }\n\n    .dataframe thead th {\n        text-align: right;\n    }\n</style>\n<table border=\"1\" class=\"dataframe\">\n  <thead>\n    <tr style=\"text-align: right;\">\n      <th></th>\n      <th>id</th>\n      <th>title</th>\n      <th>authors</th>\n      <th>venue</th>\n      <th>year</th>\n      <th>n_citation</th>\n      <th>page_start</th>\n      <th>page_end</th>\n      <th>doc_type</th>\n      <th>publisher</th>\n      <th>volume</th>\n      <th>issue</th>\n      <th>fos</th>\n      <th>doi</th>\n      <th>references</th>\n      <th>indexed_abstract</th>\n    </tr>\n  </thead>\n  <tbody>\n    <tr>\n      <th>0</th>\n      <td>100001334</td>\n      <td>Ontologies in HYDRA - Middleware for Ambient I...</td>\n      <td>[{'name': 'Peter Kostelnik', 'id': '2702511795...</td>\n      <td>{'raw': 'AMIF'}</td>\n      <td>2009</td>\n      <td>2</td>\n      <td>43</td>\n      <td>46</td>\n      <td></td>\n      <td></td>\n      <td></td>\n      <td></td>\n      <td>[{'name': 'Lernaean Hydra', 'w': 0.4178039}, {...</td>\n      <td>NaN</td>\n      <td>NaN</td>\n      <td>NaN</td>\n    </tr>\n    <tr>\n      <th>1</th>\n      <td>1000018889</td>\n      <td>Remote Policy Enforcement for Trusted Applicat...</td>\n      <td>[{'name': 'Fabio Martinelli', 'id': '210743870...</td>\n      <td>{'raw': 'international conference on trusted s...</td>\n      <td>2013</td>\n      <td>2</td>\n      <td>70</td>\n      <td>84</td>\n      <td>Conference</td>\n      <td>Springer, Cham</td>\n      <td></td>\n      <td></td>\n      <td>[{'name': 'Trusted Computing', 'w': 0.6314859}...</td>\n      <td>10.1007/978-3-319-03491-1_5</td>\n      <td>[94181602, 1504669610, 1542792105, 1639158619,...</td>\n      <td>{'IndexLength': 173, 'InvertedIndex': {'Both':...</td>\n    </tr>\n    <tr>\n      <th>2</th>\n      <td>1000022707</td>\n      <td>A SIMPLE OBSERVATION REGARDING ITERATIONS OF F...</td>\n      <td>[{'name': 'Jerzy Mycka', 'id': '263067851'}]</td>\n      <td>{'raw': 'Reports on Mathematical Logic', 'id':...</td>\n      <td>2009</td>\n      <td>0</td>\n      <td>19</td>\n      <td>29</td>\n      <td>Journal</td>\n      <td></td>\n      <td>44</td>\n      <td></td>\n      <td>[{'name': 'Discrete mathematics', 'w': 0.47368...</td>\n      <td>NaN</td>\n      <td>[1972178849, 2069792094]</td>\n      <td>{'IndexLength': 49, 'InvertedIndex': {'A': [0]...</td>\n    </tr>\n    <tr>\n      <th>3</th>\n      <td>100004108</td>\n      <td>Gait based human identity recognition from mul...</td>\n      <td>[{'name': 'Emdad Hossain', 'id': '2017661848',...</td>\n      <td>{'raw': 'international conference on algorithm...</td>\n      <td>2012</td>\n      <td>0</td>\n      <td>319</td>\n      <td>328</td>\n      <td>Conference</td>\n      <td>Springer, Berlin, Heidelberg</td>\n      <td></td>\n      <td></td>\n      <td>[{'name': 'Biometrics', 'w': 0.529778063}, {'n...</td>\n      <td>10.1007/978-3-642-33065-0_34</td>\n      <td>[1578000111, 2120433720, 2136461127, 213893135...</td>\n      <td>{'IndexLength': 82, 'InvertedIndex': {'In': [0...</td>\n    </tr>\n    <tr>\n      <th>4</th>\n      <td>10000571</td>\n      <td>The GAME Algorithm Applied to Complex Fraction...</td>\n      <td>[{'name': 'Pavel Kordík', 'id': '419063071', '...</td>\n      <td>{'raw': 'international conference on artificia...</td>\n      <td>2008</td>\n      <td>5</td>\n      <td>859</td>\n      <td>868</td>\n      <td>Conference</td>\n      <td>Springer, Berlin, Heidelberg</td>\n      <td></td>\n      <td></td>\n      <td>[{'name': 'Pattern recognition', 'w': 0.453429...</td>\n      <td>10.1007/978-3-540-87559-8_89</td>\n      <td>[291899685, 1964166287, 2135293965, 2146842127...</td>\n      <td>{'IndexLength': 171, 'InvertedIndex': {'Comple...</td>\n    </tr>\n  </tbody>\n</table>\n</div>"
     },
     "execution_count": 20,
     "metadata": {},
     "output_type": "execute_result"
    }
   ],
   "source": [
    "df.head()"
   ],
   "metadata": {
    "collapsed": false,
    "pycharm": {
     "name": "#%%\n"
    }
   }
  },
  {
   "cell_type": "code",
   "execution_count": 6,
   "outputs": [],
   "source": [
    "from neo4j import GraphDatabase\n",
    "\n",
    "\n",
    "class Neo4jConnection:\n",
    "\n",
    "    def __init__(self, uri, user, pwd):\n",
    "        self.__uri = uri\n",
    "        self.__user = user\n",
    "        self.__pwd = pwd\n",
    "        self.__driver = None\n",
    "        try:\n",
    "            self.__driver = GraphDatabase.driver(self.__uri, auth=(self.__user, self.__pwd))\n",
    "        except Exception as e:\n",
    "            print(\"Failed to create the driver:\", e)\n",
    "\n",
    "    def close(self):\n",
    "        if self.__driver is not None:\n",
    "            self.__driver.close()\n",
    "\n",
    "    def query(self, query, parameters=None, db=None):\n",
    "        assert self.__driver is not None, \"Driver not initialized!\"\n",
    "        session = None\n",
    "        response = None\n",
    "        try:\n",
    "            session = self.__driver.session(database=db) if db is not None else self.__driver.session()\n",
    "            response = list(session.run(query, parameters))\n",
    "        except Exception as e:\n",
    "            print(\"Query failed:\", e)\n",
    "        finally:\n",
    "            if session is not None:\n",
    "                session.close()\n",
    "        return response\n",
    "\n",
    "port = 7687 # Check if is the case for your server!\n",
    "\n",
    "conn = Neo4jConnection(uri=\"bolt://localhost:\"+str(port),\n",
    "                       user=\"driver\",\n",
    "                       pwd=\"driver\")"
   ],
   "metadata": {
    "collapsed": false,
    "pycharm": {
     "name": "#%%\n"
    }
   }
  },
  {
   "cell_type": "code",
   "execution_count": 8,
   "outputs": [
    {
     "data": {
      "text/plain": "[]"
     },
     "execution_count": 8,
     "metadata": {},
     "output_type": "execute_result"
    }
   ],
   "source": [
    "conn.query('CREATE CONSTRAINT papers IF NOT EXISTS ON (p:Paper)     ASSERT p.id IS UNIQUE')\n",
    "conn.query('CREATE CONSTRAINT authors IF NOT EXISTS ON (a:Author) ASSERT a.name IS UNIQUE')\n",
    "conn.query('CREATE CONSTRAINT categories IF NOT EXISTS ON (c:Category) ASSERT c.category IS UNIQUE')"
   ],
   "metadata": {
    "collapsed": false,
    "pycharm": {
     "name": "#%%\n"
    }
   }
  },
  {
   "cell_type": "code",
   "execution_count": 59,
   "outputs": [
    {
     "data": {
      "text/plain": "[]"
     },
     "execution_count": 59,
     "metadata": {},
     "output_type": "execute_result"
    }
   ],
   "source": [
    "conn.query('DROP CONSTRAINT ON (a:Author) ASSERT a.name IS UNIQUE')"
   ],
   "metadata": {
    "collapsed": false,
    "pycharm": {
     "name": "#%%\n"
    }
   }
  },
  {
   "cell_type": "code",
   "execution_count": 90,
   "outputs": [],
   "source": [
    "import time\n",
    "\n",
    "\n",
    "def insert_data(query, rows, batch_size = 10000):\n",
    "    # Function to handle the updating the Neo4j database in batch mode.\n",
    "\n",
    "    total = 0\n",
    "    batch = 0\n",
    "    start = time.time()\n",
    "    result = None\n",
    "\n",
    "    while batch * batch_size < len(rows):\n",
    "\n",
    "        res = conn.query(query,\n",
    "                         parameters = {'rows': rows[batch*batch_size:(batch+1)*batch_size].to_dict('records')})\n",
    "        total += res[0]['total']\n",
    "        batch += 1\n",
    "        result = {\"total\":total,\n",
    "                  \"batches\":batch,\n",
    "                  \"time\":time.time()-start}\n",
    "        print(result)\n",
    "\n",
    "    return result\n",
    "\n",
    "def add_categories(categories):\n",
    "    # Adds category nodes to the Neo4j graph.\n",
    "    query = '''\n",
    "            UNWIND $rows AS row\n",
    "            MERGE (c:Category {category: row.category})\n",
    "            RETURN count(*) as total\n",
    "            '''\n",
    "    return conn.query(query, parameters = {'rows':categories.to_dict('records')})\n",
    "\n",
    "\n",
    "def add_authors(rows, batch_size=10000):\n",
    "    # Adds author nodes to the Neo4j graph as a batch job.\n",
    "    query = '''\n",
    "            UNWIND $rows AS row\n",
    "            MERGE (a:Author {name: row.name})\n",
    "            RETURN count(*) as total\n",
    "            '''\n",
    "    return insert_data(query, rows, batch_size)\n",
    "\n",
    "def add_papers(rows, batch_size=1000):\n",
    "   # Adds paper nodes and (:Author)--(:Paper)\n",
    "   query = '''\n",
    "    // Create papers\n",
    "    UNWIND $rows as paper\n",
    "    MERGE (p:Paper {paperid: paper.id})\n",
    "    ON CREATE SET\n",
    "    p.title = paper.title,\n",
    "    p.year = paper.year,\n",
    "    p.n_citation = paper.n_citation,\n",
    "    p.doi = paper.doi\n",
    "\n",
    "    // Match authors\n",
    "    // WITH paper, p\n",
    "    // UNWIND  paper.authors AS author\n",
    "    // MATCH (a:Author {name: author})\n",
    "    // MERGE (a)-[:AUTHORED]->(p)\n",
    "\n",
    "    // Match references\n",
    "    WITH paper, p\n",
    "    UNWIND  paper.references AS refid\n",
    "    OPTIONAL MATCH (r:Paper {paperid:refid})\n",
    "    MERGE (p)-[:references]->(r)\n",
    "    RETURN count(p:Paper) as total\n",
    "   '''\n",
    "\n",
    "   return insert_data(query, rows, batch_size)\n"
   ],
   "metadata": {
    "collapsed": false,
    "pycharm": {
     "name": "#%%\n"
    }
   }
  },
  {
   "cell_type": "code",
   "execution_count": 72,
   "outputs": [
    {
     "name": "stdout",
     "output_type": "stream",
     "text": [
      "{'total': 10000, 'batches': 1, 'time': 14.639893770217896}\n",
      "{'total': 12781, 'batches': 2, 'time': 26.440998792648315}\n"
     ]
    },
    {
     "data": {
      "text/plain": "{'total': 12781, 'batches': 2, 'time': 26.440998792648315}"
     },
     "execution_count": 72,
     "metadata": {},
     "output_type": "execute_result"
    }
   ],
   "source": [
    "# categories = pd.DataFrame(df[['category_list']])\n",
    "# categories.rename(columns={'category_list':'category'}, inplace=True)\n",
    "# categories = categories.explode('category').drop_duplicates(subset=['category'])\n",
    "#\n",
    "authors = pd.DataFrame.from_records(\n",
    "    df[['authors']].explode('authors').authors.values.tolist()\n",
    ").drop_duplicates(subset=['name'])\n",
    "\n",
    "# add_categories(categories)\n",
    "add_authors(authors)\n",
    "add_papers(df)"
   ],
   "metadata": {
    "collapsed": false,
    "pycharm": {
     "name": "#%%\n"
    }
   }
  },
  {
   "cell_type": "code",
   "execution_count": 91,
   "outputs": [
    {
     "name": "stdout",
     "output_type": "stream",
     "text": [
      "{'total': 7, 'batches': 1, 'time': 15.533691644668579}\n",
      "{'total': 17, 'batches': 2, 'time': 32.37181043624878}\n",
      "{'total': 22, 'batches': 3, 'time': 48.01698684692383}\n",
      "{'total': 28, 'batches': 4, 'time': 63.595189571380615}\n",
      "{'total': 37, 'batches': 5, 'time': 79.46612858772278}\n"
     ]
    },
    {
     "data": {
      "text/plain": "{'total': 37, 'batches': 5, 'time': 79.46612858772278}"
     },
     "execution_count": 91,
     "metadata": {},
     "output_type": "execute_result"
    }
   ],
   "source": [
    "add_papers(df)"
   ],
   "metadata": {
    "collapsed": false,
    "pycharm": {
     "name": "#%%\n"
    }
   }
  }
 ],
 "metadata": {
  "interpreter": {
   "hash": "3acfef7138f70d2429ae48cbaca4cc964d0577b5663fbd0bd04cb7bf77da6df6"
  },
  "kernelspec": {
   "display_name": "Python 3.9.7 ('maat-dev')",
   "language": "python",
   "name": "python3"
  },
  "language_info": {
   "codemirror_mode": {
    "name": "ipython",
    "version": 3
   },
   "file_extension": ".py",
   "mimetype": "text/x-python",
   "name": "python",
   "nbconvert_exporter": "python",
   "pygments_lexer": "ipython3",
   "version": "3.9.7"
  },
  "orig_nbformat": 4
 },
 "nbformat": 4,
 "nbformat_minor": 2
}