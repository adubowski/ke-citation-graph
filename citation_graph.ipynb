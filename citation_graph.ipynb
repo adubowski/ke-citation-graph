{
 "cells": [
  {
   "cell_type": "code",
   "execution_count": 1,
   "metadata": {
    "collapsed": false,
    "pycharm": {
     "name": "#%%\n"
    }
   },
   "outputs": [],
   "source": [
    "from neo4j import GraphDatabase\n",
    "import pandas as pd\n",
    "import json\n",
    "from tqdm import tqdm"
   ]
  },
  {
   "cell_type": "code",
   "execution_count": 9,
   "metadata": {},
   "outputs": [],
   "source": [
    "port = 11003 # Check if is the case for your server!\n",
    "PWD='knowledge'\n"
   ]
  },
  {
   "cell_type": "code",
   "execution_count": 13,
   "metadata": {
    "collapsed": false,
    "pycharm": {
     "name": "#%%\n"
    }
   },
   "outputs": [],
   "source": [
    "# Database wrapper from: https://towardsdatascience.com/create-a-graph-database-in-neo4j-using-python-4172d40f89c4\n",
    "\n",
    "\n",
    "class Neo4jConnection:\n",
    "\n",
    "    def __init__(self, uri, user, pwd):\n",
    "        self.__uri = uri\n",
    "        self.__user = user\n",
    "        self.__pwd = pwd\n",
    "        self.__driver = None\n",
    "        try:\n",
    "            self.__driver = GraphDatabase.driver(self.__uri, auth=(self.__user, self.__pwd))\n",
    "        except Exception as e:\n",
    "            print(\"Failed to create the driver:\", e)\n",
    "\n",
    "    def close(self):\n",
    "        if self.__driver is not None:\n",
    "            self.__driver.close()\n",
    "\n",
    "    def query(self, query, parameters=None, db=None):\n",
    "        assert self.__driver is not None, \"Driver not initialized!\"\n",
    "        session = None\n",
    "        response = None\n",
    "        try:\n",
    "            session = self.__driver.session(database=db) if db is not None else self.__driver.session()\n",
    "            response = list(session.run(query, parameters))\n",
    "        except Exception as e:\n",
    "            print(\"Query failed:\", e)\n",
    "        finally:\n",
    "            if session is not None:\n",
    "                session.close()\n",
    "        return response\n",
    "\n",
    "\n",
    "conn = Neo4jConnection(uri=\"bolt://localhost:\"+str(port),\n",
    "                       user=\"neo4j\",\n",
    "                       pwd=PWD)"
   ]
  },
  {
   "cell_type": "code",
   "execution_count": 14,
   "metadata": {
    "collapsed": false,
    "pycharm": {
     "name": "#%%\n"
    }
   },
   "outputs": [],
   "source": [
    "import time\n",
    "\n",
    "\n",
    "def insert_data(query, rows, batch_size = 10000):\n",
    "    # Function to handle the updating the Neo4j database in batch mode.\n",
    "\n",
    "    total = 0\n",
    "    batch = 0\n",
    "    start = time.time()\n",
    "    result = None\n",
    "\n",
    "    for batch in tqdm(range(len(rows) // batch_size + 1)):\n",
    "        batch_start = time.time()\n",
    "        res = conn.query(query,\n",
    "                         parameters = {'rows': rows[batch*batch_size:(batch+1)*batch_size].to_dict('records')})\n",
    "        total += res[0]['total']\n",
    "        result = {\"batch_size\": batch_size,\n",
    "                  \"batches_done\": batch,\n",
    "                  \"batch_time\": time.time() - batch_start,\n",
    "                  \"total_time\": time.time()-start}\n",
    "        # print(result)\n",
    "\n",
    "    return result\n",
    "\n",
    "def add_papers(rows, batch_size=5000):\n",
    "   # Adds paper nodes and relationships (:Author)-[:AUTHORED]-(:Paper), (:Paper)-[:REFERENCES]-(:Paper)\n",
    "   query = '''\n",
    "    // Create papers\n",
    "    UNWIND $rows as paper\n",
    "    MERGE (p:Paper {paperid: paper.id})\n",
    "    ON CREATE SET\n",
    "    p.title = paper.title,\n",
    "    p.year = paper.year,\n",
    "    p.n_citation = paper.n_citation,\n",
    "    p.doi = paper.doi\n",
    "\n",
    "    // Match authors\n",
    "    WITH paper, p\n",
    "    UNWIND  paper.authors AS author\n",
    "    MERGE (a:Author {authorid: author.id})\n",
    "    ON CREATE SET a.name = author.name\n",
    "    MERGE (a)-[:AUTHORED]->(p)\n",
    "\n",
    "    // Match references\n",
    "    WITH paper, p\n",
    "    UNWIND  paper.references AS refid\n",
    "    MATCH (r:Paper {paperid:refid})\n",
    "    MERGE (p)-[:REFERENCES]->(r)\n",
    "    RETURN count(p:Paper) as total\n",
    "   '''\n",
    "\n",
    "   return insert_data(query, rows, batch_size)"
   ]
  },
  {
   "cell_type": "code",
   "execution_count": 15,
   "metadata": {
    "collapsed": false,
    "pycharm": {
     "name": "#%%\n"
    }
   },
   "outputs": [
    {
     "data": {
      "text/plain": [
       "[]"
      ]
     },
     "execution_count": 15,
     "metadata": {},
     "output_type": "execute_result"
    }
   ],
   "source": [
    "conn.query('CREATE INDEX paper_id_index IF NOT EXISTS FOR (p:Paper) ON (p.paperid);')\n",
    "conn.query('CREATE INDEX author_id_index IF NOT EXISTS FOR (a:Author) ON (a.authorid);')"
   ]
  },
  {
   "cell_type": "markdown",
   "metadata": {},
   "source": [
    "# Add paper nodes"
   ]
  },
  {
   "cell_type": "code",
   "execution_count": 6,
   "metadata": {
    "collapsed": false,
    "pycharm": {
     "name": "#%%\n"
    }
   },
   "outputs": [
    {
     "name": "stderr",
     "output_type": "stream",
     "text": [
      "  0%|          | 0/41 [00:00<?, ?it/s]\n",
      "  0%|          | 0/101 [00:04<?, ?it/s]\u001b[A\n",
      "  0%|          | 0/41 [00:15<?, ?it/s]"
     ]
    },
    {
     "name": "stdout",
     "output_type": "stream",
     "text": [
      "Query failed: Couldn't connect to localhost:11005 (resolved to ('[::1]:11005', '127.0.0.1:11005')):\n",
      "Failed to establish connection to ResolvedIPv6Address(('::1', 11005, 0, 0)) (reason [WinError 10061] No connection could be made because the target machine actively refused it)\n",
      "Failed to establish connection to ResolvedIPv4Address(('127.0.0.1', 11005)) (reason [WinError 10061] No connection could be made because the target machine actively refused it)\n",
      "'NoneType' object is not subscriptable\n"
     ]
    },
    {
     "name": "stderr",
     "output_type": "stream",
     "text": [
      "\n"
     ]
    }
   ],
   "source": [
    "file = \"data/dblp_papers_v11.txt\"\n",
    "n_papers = 4107340 # Number of papers in the dataset\n",
    "subset = [\"id\", \"title\", \"year\", \"n_citation\", \"doi\", \"authors\", \"references\"]\n",
    "\n",
    "# TODO: Add tqdm max of the number of papers\n",
    "with open(file, 'r') as f:\n",
    "    for episode in tqdm(range(n_papers // 100000)):\n",
    "        try:\n",
    "            lines = 100000\n",
    "            rows  = []\n",
    "            for line in f:\n",
    "                rows.append(json.loads(line))\n",
    "                lines -= 1\n",
    "                if lines == 0: break\n",
    "            df = pd.DataFrame(rows)\n",
    "            add_papers(df[subset], 1000)\n",
    "        except Exception as e:\n",
    "            print(e)\n",
    "            break"
   ]
  },
  {
   "cell_type": "markdown",
   "metadata": {},
   "source": [
    "# Load stackexchange XML"
   ]
  },
  {
   "cell_type": "code",
   "execution_count": 69,
   "metadata": {
    "collapsed": false,
    "pycharm": {
     "name": "#%%\n"
    }
   },
   "outputs": [],
   "source": [
    "import re\n",
    "\n",
    "\n",
    "def process_stackexchange(board: str) -> list[pd.DataFrame]:\n",
    "    \"\"\"_summary_\n",
    "\n",
    "    Args:\n",
    "        board (str): Stackexchange board to load. Expected file structure is\n",
    "            ./data/`board`/*.xml\n",
    "\n",
    "    Returns:\n",
    "        list[pd.DataFrame]: List of pandas dataframes with Comments and\n",
    "            PostHistory data with extracted DOIs and markdown links.\n",
    "    \"\"\"\n",
    "    # Regex patterns\n",
    "    DOI_PATTERN = \"10\\.\\d{4,9}/[-._;\\(\\)/:A-Z0-9]+[/A-Z0-9]\"\n",
    "    MD_PATTERN = \"\\[([\\w\\s\\d]+)\\](https?:\\/\\/[\\w\\d./?=#]+)\"\n",
    "\n",
    "    def process_set(set: str) -> pd.DataFrame:\n",
    "        \"\"\"Processes single file in board data\n",
    "\n",
    "        Args:\n",
    "            set (str): One of \"Comments\" or \"PostHistory\"\n",
    "\n",
    "        Returns:\n",
    "            pd.DataFrame: Original data with extracted DOIs and Markdown links\n",
    "        \"\"\"\n",
    "        # Load xml file\n",
    "        path = f\"data/{board}/{set}.xml\"\n",
    "        with open(path, encoding=\"utf8\") as file:\n",
    "            df = pd.read_xml(file.read())\n",
    "\n",
    "        # Extract all DOIs using pattern defined before to list per row\n",
    "        if \"Text\" in df.columns:\n",
    "            df[\"DOIs\"] = df[\"Text\"].apply(lambda text: re.findall(DOI_PATTERN, str(text)))\n",
    "            # df = df.loc[df[\"DOIs\"].str.len() > 2]\n",
    "        df[\"board\"] = board\n",
    "        print(f\" --- {board}/{set} loaded:\")\n",
    "        print(df.head())\n",
    "        print(df.shape)\n",
    "        return df\n",
    "\n",
    "    return process_set(\"Comments\"), process_set(\"PostHistory\"), process_set(\"PostLinks\")"
   ]
  },
  {
   "cell_type": "code",
   "execution_count": 60,
   "metadata": {
    "collapsed": false,
    "pycharm": {
     "name": "#%%\n"
    }
   },
   "outputs": [],
   "source": [
    "def add_boards(rows, batch_size=50):\n",
    "    # Adds board nodes\n",
    "    query = '''\n",
    "    UNWIND $rows as board\n",
    "    MERGE (b:Board {boardname: board.name})\n",
    "    RETURN count(b:Board) as total\n",
    "    '''\n",
    "    return insert_data(query, rows, batch_size)"
   ]
  },
  {
   "cell_type": "code",
   "execution_count": 61,
   "metadata": {
    "collapsed": false,
    "pycharm": {
     "name": "#%%\n"
    }
   },
   "outputs": [],
   "source": [
    "def add_posts(rows, batch_size=50):\n",
    "   # Adds post nodes\n",
    "   query = '''\n",
    "    // Create posts\n",
    "    UNWIND $rows as post\n",
    "    MERGE (p:Post {postid: post.PostId})\n",
    "    ON CREATE SET\n",
    "    p.text = post.Text\n",
    "\n",
    "    WITH post, p\n",
    "    UNWIND post.DOIs AS doi\n",
    "    MATCH (r:Paper {doi:doi})\n",
    "    MERGE (p)-[:REFERENCES]->(r)\n",
    "\n",
    "    WITH post, p\n",
    "    MATCH (b:Board {boardname:post.board})\n",
    "    MERGE (p)-[:FROM_BOARD]->(b)\n",
    "    RETURN count(p:Post) as total\n",
    "   '''\n",
    "   return insert_data(query, rows, batch_size)"
   ]
  },
  {
   "cell_type": "code",
   "execution_count": 62,
   "metadata": {
    "collapsed": false,
    "pycharm": {
     "name": "#%%\n"
    }
   },
   "outputs": [],
   "source": [
    "def add_comments(rows, batch_size=50):\n",
    "   # Adds comment nodes\n",
    "   query = '''\n",
    "    // Create comments\n",
    "    UNWIND $rows as comment\n",
    "    MERGE (c:Comment {commentid: comment.Id})\n",
    "    ON CREATE SET\n",
    "    c.text = comment.Text\n",
    "\n",
    "    // Match posts\n",
    "    WITH comment, c\n",
    "    MATCH (p:Post {postid: comment.PostId})\n",
    "    MERGE (c)-[:RESPONDS_TO]->(p)\n",
    "\n",
    "    // Match references\n",
    "    WITH comment, c\n",
    "    UNWIND comment.DOIs AS doi\n",
    "    MATCH (r:Paper {doi:doi})\n",
    "    MERGE (c)-[:REFERENCES]->(r)\n",
    "    RETURN count(c:Comment) as total\n",
    "   '''\n",
    "   return insert_data(query, rows, batch_size)"
   ]
  },
  {
   "cell_type": "code",
   "execution_count": 63,
   "metadata": {
    "collapsed": false,
    "pycharm": {
     "name": "#%%\n"
    }
   },
   "outputs": [],
   "source": [
    "def add_post_links(rows, batch_size=50):\n",
    "   # Adds post nodes\n",
    "   query = '''\n",
    "    // Create posts\n",
    "    UNWIND $rows as post_link\n",
    "    MATCH (p:Post {postid:post_link.PostId})\n",
    "    MATCH (r:Post {postid:post_link.RelatedPostId})\n",
    "    MERGE (p)-[:REFERENCES]->(r)\n",
    "    RETURN count(p:Post) as total\n",
    "   '''\n",
    "   return insert_data(query, rows, batch_size)"
   ]
  },
  {
   "cell_type": "code",
   "execution_count": 68,
   "metadata": {
    "collapsed": false,
    "pycharm": {
     "name": "#%%\n"
    }
   },
   "outputs": [
    {
     "data": {
      "text/plain": [
       "[]"
      ]
     },
     "execution_count": 68,
     "metadata": {},
     "output_type": "execute_result"
    }
   ],
   "source": [
    "conn.query('CREATE INDEX paper_doi_index IF NOT EXISTS FOR (p:Paper) ON (p.doi);')\n",
    "conn.query('CREATE INDEX post_id_index IF NOT EXISTS FOR (p:Post) ON (p.postid);')\n",
    "conn.query('CREATE INDEX comment_id_index IF NOT EXISTS FOR (c:Comment) ON (c.commentid);')\n",
    "conn.query('CREATE INDEX board_index IF NOT EXISTS FOR (b:Board) ON (b.boardname);')"
   ]
  },
  {
   "cell_type": "code",
   "execution_count": 67,
   "metadata": {
    "collapsed": false,
    "pycharm": {
     "name": "#%%\n"
    }
   },
   "outputs": [
    {
     "name": "stderr",
     "output_type": "stream",
     "text": [
      "100%|██████████| 2/2 [00:00<00:00, 168.03it/s]\n"
     ]
    },
    {
     "data": {
      "text/plain": [
       "{'batch_size': 1,\n",
       " 'batches_done': 1,\n",
       " 'batch_time': 0.002944469451904297,\n",
       " 'total_time': 0.013958215713500977}"
      ]
     },
     "execution_count": 67,
     "metadata": {},
     "output_type": "execute_result"
    }
   ],
   "source": [
    "se_boards = [\n",
    "    # \"ai\",\n",
    "    # \"cstheory\",\n",
    "    #  \"datascience\",\n",
    "     \"stats\",\n",
    "     ]\n",
    "add_boards(pd.DataFrame({\"name\": se_boards}), batch_size=1)"
   ]
  },
  {
   "cell_type": "code",
   "execution_count": 70,
   "metadata": {
    "collapsed": false,
    "pycharm": {
     "name": "#%%\n"
    }
   },
   "outputs": [
    {
     "name": "stdout",
     "output_type": "stream",
     "text": [
      "Board: stats\n",
      " --- stats/Comments loaded:\n",
      "   Id  PostId  Score                                               Text  \\\n",
      "0   1       3      6  Could be a poster child fo argumentative and s...   \n",
      "1   2       5      0          Yes, R is nice- but WHY is it 'valuable'.   \n",
      "2   3       9      0  Again- why?  How would I convince my boss to u...   \n",
      "3   4       5     11  It's mature, well supported, and a standard wi...   \n",
      "4   6      14      9  why ask the question here?  All are community-...   \n",
      "\n",
      "              CreationDate  UserId ContentLicense UserDisplayName DOIs  board  \n",
      "0  2010-07-19T19:15:52.517    13.0   CC BY-SA 2.5            None   []  stats  \n",
      "1  2010-07-19T19:16:14.980    13.0   CC BY-SA 2.5            None   []  stats  \n",
      "2  2010-07-19T19:18:54.617    13.0   CC BY-SA 2.5            None   []  stats  \n",
      "3  2010-07-19T19:19:56.657    37.0   CC BY-SA 2.5            None   []  stats  \n",
      "4  2010-07-19T19:22:27.947    23.0   CC BY-SA 2.5            None   []  stats  \n",
      "(725176, 10)\n"
     ]
    },
    {
     "ename": "MemoryError",
     "evalue": "",
     "output_type": "error",
     "traceback": [
      "\u001b[1;31m---------------------------------------------------------------------------\u001b[0m",
      "\u001b[1;31mMemoryError\u001b[0m                               Traceback (most recent call last)",
      "\u001b[1;32md:\\code\\studie\\knowledge_engineering\\citation_graph.ipynb Cell 16'\u001b[0m in \u001b[0;36m<cell line: 1>\u001b[1;34m()\u001b[0m\n\u001b[0;32m      <a href='vscode-notebook-cell:/d%3A/code/studie/knowledge_engineering/citation_graph.ipynb#ch0000012?line=0'>1</a>\u001b[0m \u001b[39mfor\u001b[39;00m board \u001b[39min\u001b[39;00m se_boards:\n\u001b[0;32m      <a href='vscode-notebook-cell:/d%3A/code/studie/knowledge_engineering/citation_graph.ipynb#ch0000012?line=1'>2</a>\u001b[0m     \u001b[39mprint\u001b[39m(\u001b[39m\"\u001b[39m\u001b[39mBoard:\u001b[39m\u001b[39m\"\u001b[39m, board)\n\u001b[1;32m----> <a href='vscode-notebook-cell:/d%3A/code/studie/knowledge_engineering/citation_graph.ipynb#ch0000012?line=2'>3</a>\u001b[0m     comments_df, posthistory_df, postlinks_df \u001b[39m=\u001b[39m process_stackexchange(board)\n\u001b[0;32m      <a href='vscode-notebook-cell:/d%3A/code/studie/knowledge_engineering/citation_graph.ipynb#ch0000012?line=3'>4</a>\u001b[0m     posthistory_df \u001b[39m=\u001b[39m posthistory_df\u001b[39m.\u001b[39msort_values(\u001b[39m'\u001b[39m\u001b[39mCreationDate\u001b[39m\u001b[39m'\u001b[39m, ascending\u001b[39m=\u001b[39m\u001b[39mFalse\u001b[39;00m)\u001b[39m.\u001b[39mdrop_duplicates(subset\u001b[39m=\u001b[39m[\u001b[39m\"\u001b[39m\u001b[39mPostId\u001b[39m\u001b[39m\"\u001b[39m])\n\u001b[0;32m      <a href='vscode-notebook-cell:/d%3A/code/studie/knowledge_engineering/citation_graph.ipynb#ch0000012?line=4'>5</a>\u001b[0m     add_posts(posthistory_df, batch_size\u001b[39m=\u001b[39m\u001b[39m100\u001b[39m)\n",
      "\u001b[1;32md:\\code\\studie\\knowledge_engineering\\citation_graph.ipynb Cell 9'\u001b[0m in \u001b[0;36mprocess_stackexchange\u001b[1;34m(board)\u001b[0m\n\u001b[0;32m     <a href='vscode-notebook-cell:/d%3A/code/studie/knowledge_engineering/citation_graph.ipynb#ch0000005?line=39'>40</a>\u001b[0m     \u001b[39mprint\u001b[39m(df\u001b[39m.\u001b[39mshape)\n\u001b[0;32m     <a href='vscode-notebook-cell:/d%3A/code/studie/knowledge_engineering/citation_graph.ipynb#ch0000005?line=40'>41</a>\u001b[0m     \u001b[39mreturn\u001b[39;00m df\n\u001b[1;32m---> <a href='vscode-notebook-cell:/d%3A/code/studie/knowledge_engineering/citation_graph.ipynb#ch0000005?line=42'>43</a>\u001b[0m \u001b[39mreturn\u001b[39;00m process_set(\u001b[39m\"\u001b[39m\u001b[39mComments\u001b[39m\u001b[39m\"\u001b[39m), process_set(\u001b[39m\"\u001b[39;49m\u001b[39mPostHistory\u001b[39;49m\u001b[39m\"\u001b[39;49m), process_set(\u001b[39m\"\u001b[39m\u001b[39mPostLinks\u001b[39m\u001b[39m\"\u001b[39m)\n",
      "\u001b[1;32md:\\code\\studie\\knowledge_engineering\\citation_graph.ipynb Cell 9'\u001b[0m in \u001b[0;36mprocess_stackexchange.<locals>.process_set\u001b[1;34m(set)\u001b[0m\n\u001b[0;32m     <a href='vscode-notebook-cell:/d%3A/code/studie/knowledge_engineering/citation_graph.ipynb#ch0000005?line=28'>29</a>\u001b[0m path \u001b[39m=\u001b[39m \u001b[39mf\u001b[39m\u001b[39m\"\u001b[39m\u001b[39mdata/\u001b[39m\u001b[39m{\u001b[39;00mboard\u001b[39m}\u001b[39;00m\u001b[39m/\u001b[39m\u001b[39m{\u001b[39;00m\u001b[39mset\u001b[39m\u001b[39m}\u001b[39;00m\u001b[39m.xml\u001b[39m\u001b[39m\"\u001b[39m\n\u001b[0;32m     <a href='vscode-notebook-cell:/d%3A/code/studie/knowledge_engineering/citation_graph.ipynb#ch0000005?line=29'>30</a>\u001b[0m \u001b[39mwith\u001b[39;00m \u001b[39mopen\u001b[39m(path, encoding\u001b[39m=\u001b[39m\u001b[39m\"\u001b[39m\u001b[39mutf8\u001b[39m\u001b[39m\"\u001b[39m) \u001b[39mas\u001b[39;00m file:\n\u001b[1;32m---> <a href='vscode-notebook-cell:/d%3A/code/studie/knowledge_engineering/citation_graph.ipynb#ch0000005?line=30'>31</a>\u001b[0m     df \u001b[39m=\u001b[39m pd\u001b[39m.\u001b[39;49mread_xml(file\u001b[39m.\u001b[39;49mread())\n\u001b[0;32m     <a href='vscode-notebook-cell:/d%3A/code/studie/knowledge_engineering/citation_graph.ipynb#ch0000005?line=32'>33</a>\u001b[0m \u001b[39m# Extract all DOIs using pattern defined before to list per row\u001b[39;00m\n\u001b[0;32m     <a href='vscode-notebook-cell:/d%3A/code/studie/knowledge_engineering/citation_graph.ipynb#ch0000005?line=33'>34</a>\u001b[0m \u001b[39mif\u001b[39;00m \u001b[39m\"\u001b[39m\u001b[39mText\u001b[39m\u001b[39m\"\u001b[39m \u001b[39min\u001b[39;00m df\u001b[39m.\u001b[39mcolumns:\n",
      "File \u001b[1;32mc:\\Users\\miltre\\.virtualenvs\\knowledge_engineering-zI5oI6JL\\lib\\site-packages\\pandas\\util\\_decorators.py:311\u001b[0m, in \u001b[0;36mdeprecate_nonkeyword_arguments.<locals>.decorate.<locals>.wrapper\u001b[1;34m(*args, **kwargs)\u001b[0m\n\u001b[0;32m    305\u001b[0m \u001b[39mif\u001b[39;00m \u001b[39mlen\u001b[39m(args) \u001b[39m>\u001b[39m num_allow_args:\n\u001b[0;32m    306\u001b[0m     warnings\u001b[39m.\u001b[39mwarn(\n\u001b[0;32m    307\u001b[0m         msg\u001b[39m.\u001b[39mformat(arguments\u001b[39m=\u001b[39marguments),\n\u001b[0;32m    308\u001b[0m         \u001b[39mFutureWarning\u001b[39;00m,\n\u001b[0;32m    309\u001b[0m         stacklevel\u001b[39m=\u001b[39mstacklevel,\n\u001b[0;32m    310\u001b[0m     )\n\u001b[1;32m--> 311\u001b[0m \u001b[39mreturn\u001b[39;00m func(\u001b[39m*\u001b[39margs, \u001b[39m*\u001b[39m\u001b[39m*\u001b[39mkwargs)\n",
      "File \u001b[1;32mc:\\Users\\miltre\\.virtualenvs\\knowledge_engineering-zI5oI6JL\\lib\\site-packages\\pandas\\io\\xml.py:938\u001b[0m, in \u001b[0;36mread_xml\u001b[1;34m(path_or_buffer, xpath, namespaces, elems_only, attrs_only, names, encoding, parser, stylesheet, compression, storage_options)\u001b[0m\n\u001b[0;32m    738\u001b[0m \u001b[39m@deprecate_nonkeyword_arguments\u001b[39m(\n\u001b[0;32m    739\u001b[0m     version\u001b[39m=\u001b[39m\u001b[39mNone\u001b[39;00m, allowed_args\u001b[39m=\u001b[39m[\u001b[39m\"\u001b[39m\u001b[39mpath_or_buffer\u001b[39m\u001b[39m\"\u001b[39m], stacklevel\u001b[39m=\u001b[39m\u001b[39m2\u001b[39m\n\u001b[0;32m    740\u001b[0m )\n\u001b[1;32m   (...)\u001b[0m\n\u001b[0;32m    757\u001b[0m     storage_options: StorageOptions \u001b[39m=\u001b[39m \u001b[39mNone\u001b[39;00m,\n\u001b[0;32m    758\u001b[0m ) \u001b[39m-\u001b[39m\u001b[39m>\u001b[39m DataFrame:\n\u001b[0;32m    759\u001b[0m     \u001b[39mr\u001b[39m\u001b[39m\"\"\"\u001b[39;00m\n\u001b[0;32m    760\u001b[0m \u001b[39m    Read XML document into a ``DataFrame`` object.\u001b[39;00m\n\u001b[0;32m    761\u001b[0m \n\u001b[1;32m   (...)\u001b[0m\n\u001b[0;32m    935\u001b[0m \u001b[39m    2  triangle      180    3.0\u001b[39;00m\n\u001b[0;32m    936\u001b[0m \u001b[39m    \"\"\"\u001b[39;00m\n\u001b[1;32m--> 938\u001b[0m     \u001b[39mreturn\u001b[39;00m _parse(\n\u001b[0;32m    939\u001b[0m         path_or_buffer\u001b[39m=\u001b[39;49mpath_or_buffer,\n\u001b[0;32m    940\u001b[0m         xpath\u001b[39m=\u001b[39;49mxpath,\n\u001b[0;32m    941\u001b[0m         namespaces\u001b[39m=\u001b[39;49mnamespaces,\n\u001b[0;32m    942\u001b[0m         elems_only\u001b[39m=\u001b[39;49melems_only,\n\u001b[0;32m    943\u001b[0m         attrs_only\u001b[39m=\u001b[39;49mattrs_only,\n\u001b[0;32m    944\u001b[0m         names\u001b[39m=\u001b[39;49mnames,\n\u001b[0;32m    945\u001b[0m         encoding\u001b[39m=\u001b[39;49mencoding,\n\u001b[0;32m    946\u001b[0m         parser\u001b[39m=\u001b[39;49mparser,\n\u001b[0;32m    947\u001b[0m         stylesheet\u001b[39m=\u001b[39;49mstylesheet,\n\u001b[0;32m    948\u001b[0m         compression\u001b[39m=\u001b[39;49mcompression,\n\u001b[0;32m    949\u001b[0m         storage_options\u001b[39m=\u001b[39;49mstorage_options,\n\u001b[0;32m    950\u001b[0m     )\n",
      "File \u001b[1;32mc:\\Users\\miltre\\.virtualenvs\\knowledge_engineering-zI5oI6JL\\lib\\site-packages\\pandas\\io\\xml.py:733\u001b[0m, in \u001b[0;36m_parse\u001b[1;34m(path_or_buffer, xpath, namespaces, elems_only, attrs_only, names, encoding, parser, stylesheet, compression, storage_options, **kwargs)\u001b[0m\n\u001b[0;32m    730\u001b[0m \u001b[39melse\u001b[39;00m:\n\u001b[0;32m    731\u001b[0m     \u001b[39mraise\u001b[39;00m \u001b[39mValueError\u001b[39;00m(\u001b[39m\"\u001b[39m\u001b[39mValues for parser can only be lxml or etree.\u001b[39m\u001b[39m\"\u001b[39m)\n\u001b[1;32m--> 733\u001b[0m data_dicts \u001b[39m=\u001b[39m p\u001b[39m.\u001b[39;49mparse_data()\n\u001b[0;32m    735\u001b[0m \u001b[39mreturn\u001b[39;00m _data_to_frame(data\u001b[39m=\u001b[39mdata_dicts, \u001b[39m*\u001b[39m\u001b[39m*\u001b[39mkwargs)\n",
      "File \u001b[1;32mc:\\Users\\miltre\\.virtualenvs\\knowledge_engineering-zI5oI6JL\\lib\\site-packages\\pandas\\io\\xml.py:389\u001b[0m, in \u001b[0;36m_LxmlFrameParser.parse_data\u001b[1;34m(self)\u001b[0m\n\u001b[0;32m    380\u001b[0m \u001b[39m\"\"\"\u001b[39;00m\n\u001b[0;32m    381\u001b[0m \u001b[39mParse xml data.\u001b[39;00m\n\u001b[0;32m    382\u001b[0m \n\u001b[1;32m   (...)\u001b[0m\n\u001b[0;32m    385\u001b[0m \u001b[39mand parse original or transformed XML and return specific nodes.\u001b[39;00m\n\u001b[0;32m    386\u001b[0m \u001b[39m\"\"\"\u001b[39;00m\n\u001b[0;32m    387\u001b[0m \u001b[39mfrom\u001b[39;00m \u001b[39mlxml\u001b[39;00m\u001b[39m.\u001b[39;00m\u001b[39metree\u001b[39;00m \u001b[39mimport\u001b[39;00m XML\n\u001b[1;32m--> 389\u001b[0m \u001b[39mself\u001b[39m\u001b[39m.\u001b[39mxml_doc \u001b[39m=\u001b[39m XML(\u001b[39mself\u001b[39;49m\u001b[39m.\u001b[39;49m_parse_doc(\u001b[39mself\u001b[39;49m\u001b[39m.\u001b[39;49mpath_or_buffer))\n\u001b[0;32m    391\u001b[0m \u001b[39mif\u001b[39;00m \u001b[39mself\u001b[39m\u001b[39m.\u001b[39mstylesheet \u001b[39mis\u001b[39;00m \u001b[39mnot\u001b[39;00m \u001b[39mNone\u001b[39;00m:\n\u001b[0;32m    392\u001b[0m     \u001b[39mself\u001b[39m\u001b[39m.\u001b[39mxsl_doc \u001b[39m=\u001b[39m XML(\u001b[39mself\u001b[39m\u001b[39m.\u001b[39m_parse_doc(\u001b[39mself\u001b[39m\u001b[39m.\u001b[39mstylesheet))\n",
      "File \u001b[1;32mc:\\Users\\miltre\\.virtualenvs\\knowledge_engineering-zI5oI6JL\\lib\\site-packages\\pandas\\io\\xml.py:555\u001b[0m, in \u001b[0;36m_LxmlFrameParser._parse_doc\u001b[1;34m(self, raw_doc)\u001b[0m\n\u001b[0;32m    549\u001b[0m     \u001b[39mif\u001b[39;00m \u001b[39mself\u001b[39m\u001b[39m.\u001b[39mencoding \u001b[39mis\u001b[39;00m \u001b[39mNone\u001b[39;00m:\n\u001b[0;32m    550\u001b[0m         \u001b[39mraise\u001b[39;00m \u001b[39mTypeError\u001b[39;00m(\n\u001b[0;32m    551\u001b[0m             \u001b[39m\"\u001b[39m\u001b[39mCan not pass encoding None when input is StringIO.\u001b[39m\u001b[39m\"\u001b[39m\n\u001b[0;32m    552\u001b[0m         )\n\u001b[0;32m    554\u001b[0m     doc \u001b[39m=\u001b[39m fromstring(\n\u001b[1;32m--> 555\u001b[0m         xml_data\u001b[39m.\u001b[39;49mgetvalue()\u001b[39m.\u001b[39;49mencode(\u001b[39mself\u001b[39;49m\u001b[39m.\u001b[39;49mencoding), parser\u001b[39m=\u001b[39mcurr_parser\n\u001b[0;32m    556\u001b[0m     )\n\u001b[0;32m    557\u001b[0m \u001b[39melse\u001b[39;00m:\n\u001b[0;32m    558\u001b[0m     doc \u001b[39m=\u001b[39m parse(xml_data, parser\u001b[39m=\u001b[39mcurr_parser)\n",
      "\u001b[1;31mMemoryError\u001b[0m: "
     ]
    }
   ],
   "source": [
    "for board in se_boards:\n",
    "    print(\"Board:\", board)\n",
    "    comments_df, posthistory_df, postlinks_df = process_stackexchange(board)\n",
    "    posthistory_df = posthistory_df.sort_values('CreationDate', ascending=False).drop_duplicates(subset=[\"PostId\"])\n",
    "    add_posts(posthistory_df, batch_size=100)\n",
    "    add_comments(comments_df, batch_size=100)\n",
    "    add_post_links(postlinks_df, batch_size=100)\n",
    "    del(comments_df, posthistory_df)"
   ]
  },
  {
   "cell_type": "code",
   "execution_count": null,
   "metadata": {},
   "outputs": [],
   "source": []
  }
 ],
 "metadata": {
  "kernelspec": {
   "display_name": "Python 3.10.2 ('knowledge_engineering-zI5oI6JL')",
   "language": "python",
   "name": "python3"
  },
  "language_info": {
   "codemirror_mode": {
    "name": "ipython",
    "version": 3
   },
   "file_extension": ".py",
   "mimetype": "text/x-python",
   "name": "python",
   "nbconvert_exporter": "python",
   "pygments_lexer": "ipython3",
   "version": "3.10.2"
  },
  "orig_nbformat": 4,
  "vscode": {
   "interpreter": {
    "hash": "b437e091bdbe4d182467bbb25a3e9c24c161cc405420ae26ca51c6977e940732"
   }
  }
 },
 "nbformat": 4,
 "nbformat_minor": 2
}
