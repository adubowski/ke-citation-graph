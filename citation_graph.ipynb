{
 "cells": [
  {
   "cell_type": "code",
   "execution_count": 1,
   "metadata": {
    "collapsed": false,
    "pycharm": {
     "name": "#%%\n"
    }
   },
   "outputs": [],
   "source": [
    "from neo4j import GraphDatabase\n",
    "import pandas as pd\n",
    "import json\n",
    "from tqdm import tqdm"
   ]
  },
  {
   "cell_type": "code",
   "execution_count": 9,
   "metadata": {},
   "outputs": [],
   "source": [
    "port = 11003 # Check if is the case for your server!\n",
    "PWD='knowledge'\n"
   ]
  },
  {
   "cell_type": "code",
   "execution_count": 13,
   "metadata": {
    "collapsed": false,
    "pycharm": {
     "name": "#%%\n"
    }
   },
   "outputs": [],
   "source": [
    "# Database wrapper from: https://towardsdatascience.com/create-a-graph-database-in-neo4j-using-python-4172d40f89c4\n",
    "\n",
    "\n",
    "class Neo4jConnection:\n",
    "\n",
    "    def __init__(self, uri, user, pwd):\n",
    "        self.__uri = uri\n",
    "        self.__user = user\n",
    "        self.__pwd = pwd\n",
    "        self.__driver = None\n",
    "        try:\n",
    "            self.__driver = GraphDatabase.driver(self.__uri, auth=(self.__user, self.__pwd))\n",
    "        except Exception as e:\n",
    "            print(\"Failed to create the driver:\", e)\n",
    "\n",
    "    def close(self):\n",
    "        if self.__driver is not None:\n",
    "            self.__driver.close()\n",
    "\n",
    "    def query(self, query, parameters=None, db=None):\n",
    "        assert self.__driver is not None, \"Driver not initialized!\"\n",
    "        session = None\n",
    "        response = None\n",
    "        try:\n",
    "            session = self.__driver.session(database=db) if db is not None else self.__driver.session()\n",
    "            response = list(session.run(query, parameters))\n",
    "        except Exception as e:\n",
    "            print(\"Query failed:\", e)\n",
    "        finally:\n",
    "            if session is not None:\n",
    "                session.close()\n",
    "        return response\n",
    "\n",
    "\n",
    "conn = Neo4jConnection(uri=\"bolt://localhost:\"+str(port),\n",
    "                       user=\"neo4j\",\n",
    "                       pwd=PWD)"
   ]
  },
  {
   "cell_type": "code",
   "execution_count": 14,
   "metadata": {
    "collapsed": false,
    "pycharm": {
     "name": "#%%\n"
    }
   },
   "outputs": [],
   "source": [
    "import time\n",
    "\n",
    "\n",
    "def insert_data(query, rows, batch_size = 10000):\n",
    "    # Function to handle the updating the Neo4j database in batch mode.\n",
    "\n",
    "    total = 0\n",
    "    batch = 0\n",
    "    start = time.time()\n",
    "    result = None\n",
    "\n",
    "    for batch in tqdm(range(len(rows) // batch_size + 1)):\n",
    "        batch_start = time.time()\n",
    "        res = conn.query(query,\n",
    "                         parameters = {'rows': rows[batch*batch_size:(batch+1)*batch_size].to_dict('records')})\n",
    "        total += res[0]['total']\n",
    "        result = {\"batch_size\": batch_size,\n",
    "                  \"batches_done\": batch,\n",
    "                  \"batch_time\": time.time() - batch_start,\n",
    "                  \"total_time\": time.time()-start}\n",
    "        # print(result)\n",
    "\n",
    "    return result\n",
    "\n",
    "def add_papers(rows, batch_size=5000):\n",
    "   # Adds paper nodes and relationships (:Author)-[:AUTHORED]-(:Paper), (:Paper)-[:REFERENCES]-(:Paper)\n",
    "   query = '''\n",
    "    // Create papers\n",
    "    UNWIND $rows as paper\n",
    "    MERGE (p:Paper {paperid: paper.id})\n",
    "    ON CREATE SET\n",
    "    p.title = paper.title,\n",
    "    p.year = paper.year,\n",
    "    p.n_citation = paper.n_citation,\n",
    "    p.doi = paper.doi\n",
    "\n",
    "    // Match authors\n",
    "    WITH paper, p\n",
    "    UNWIND  paper.authors AS author\n",
    "    MERGE (a:Author {authorid: author.id})\n",
    "    ON CREATE SET a.name = author.name\n",
    "    MERGE (a)-[:AUTHORED]->(p)\n",
    "\n",
    "    // Match references\n",
    "    WITH paper, p\n",
    "    UNWIND  paper.references AS refid\n",
    "    MATCH (r:Paper {paperid:refid})\n",
    "    MERGE (p)-[:REFERENCES]->(r)\n",
    "    RETURN count(p:Paper) as total\n",
    "   '''\n",
    "\n",
    "   return insert_data(query, rows, batch_size)"
   ]
  },
  {
   "cell_type": "code",
   "execution_count": 15,
   "metadata": {
    "collapsed": false,
    "pycharm": {
     "name": "#%%\n"
    }
   },
   "outputs": [
    {
     "data": {
      "text/plain": [
       "[]"
      ]
     },
     "execution_count": 15,
     "metadata": {},
     "output_type": "execute_result"
    }
   ],
   "source": [
    "conn.query('CREATE INDEX paper_id_index IF NOT EXISTS FOR (p:Paper) ON (p.paperid);')\n",
    "conn.query('CREATE INDEX author_id_index IF NOT EXISTS FOR (a:Author) ON (a.authorid);')"
   ]
  },
  {
   "cell_type": "markdown",
   "metadata": {},
   "source": [
    "# Add paper nodes"
   ]
  },
  {
   "cell_type": "code",
   "execution_count": 6,
   "metadata": {
    "collapsed": false,
    "pycharm": {
     "name": "#%%\n"
    }
   },
   "outputs": [
    {
     "name": "stderr",
     "output_type": "stream",
     "text": [
      "  0%|          | 0/41 [00:00<?, ?it/s]\n",
      "  0%|          | 0/101 [00:04<?, ?it/s]\u001b[A\n",
      "  0%|          | 0/41 [00:15<?, ?it/s]"
     ]
    },
    {
     "name": "stdout",
     "output_type": "stream",
     "text": [
      "Query failed: Couldn't connect to localhost:11005 (resolved to ('[::1]:11005', '127.0.0.1:11005')):\n",
      "Failed to establish connection to ResolvedIPv6Address(('::1', 11005, 0, 0)) (reason [WinError 10061] No connection could be made because the target machine actively refused it)\n",
      "Failed to establish connection to ResolvedIPv4Address(('127.0.0.1', 11005)) (reason [WinError 10061] No connection could be made because the target machine actively refused it)\n",
      "'NoneType' object is not subscriptable\n"
     ]
    },
    {
     "name": "stderr",
     "output_type": "stream",
     "text": [
      "\n"
     ]
    }
   ],
   "source": [
    "file = \"data/dblp_papers_v11.txt\"\n",
    "n_papers = 4107340 # Number of papers in the dataset\n",
    "subset = [\"id\", \"title\", \"year\", \"n_citation\", \"doi\", \"authors\", \"references\"]\n",
    "\n",
    "# TODO: Add tqdm max of the number of papers\n",
    "with open(file, 'r') as f:\n",
    "    for episode in tqdm(range(n_papers // 100000)):\n",
    "        try:\n",
    "            lines = 100000\n",
    "            rows  = []\n",
    "            for line in f:\n",
    "                rows.append(json.loads(line))\n",
    "                lines -= 1\n",
    "                if lines == 0: break\n",
    "            df = pd.DataFrame(rows)\n",
    "            add_papers(df[subset], 1000)\n",
    "        except Exception as e:\n",
    "            print(e)\n",
    "            break"
   ]
  },
  {
   "cell_type": "markdown",
   "metadata": {},
   "source": [
    "# Load stackexchange XML"
   ]
  },
  {
   "cell_type": "code",
   "execution_count": 59,
   "metadata": {
    "collapsed": false,
    "pycharm": {
     "name": "#%%\n"
    }
   },
   "outputs": [],
   "source": [
    "import re\n",
    "\n",
    "\n",
    "def process_stackexchange(board: str) -> list[pd.DataFrame]:\n",
    "    \"\"\"_summary_\n",
    "\n",
    "    Args:\n",
    "        board (str): Stackexchange board to load. Expected file structure is\n",
    "            ./data/`board`/*.xml\n",
    "\n",
    "    Returns:\n",
    "        list[pd.DataFrame]: List of pandas dataframes with Comments and\n",
    "            PostHistory data with extracted DOIs and markdown links.\n",
    "    \"\"\"\n",
    "    # Regex patterns\n",
    "    DOI_PATTERN = \"10\\.\\d{4,9}/[-._;\\(\\)/:A-Z0-9]+[/A-Z0-9]\"\n",
    "    MD_PATTERN = \"\\[([\\w\\s\\d]+)\\](https?:\\/\\/[\\w\\d./?=#]+)\"\n",
    "\n",
    "    def process_set(set: str) -> pd.DataFrame:\n",
    "        \"\"\"Processes single file in board data\n",
    "\n",
    "        Args:\n",
    "            set (str): One of \"Comments\" or \"PostHistory\"\n",
    "\n",
    "        Returns:\n",
    "            pd.DataFrame: Original data with extracted DOIs and Markdown links\n",
    "        \"\"\"\n",
    "        # Load xml file\n",
    "        path = f\"data/{board}/{set}.xml\"\n",
    "        with open(path, encoding=\"utf8\") as file:\n",
    "            df = pd.read_xml(file.read())\n",
    "\n",
    "        # Extract all DOIs using pattern defined before to list per row\n",
    "        if \"Text\" in df.columns:\n",
    "            df[\"DOIs\"] = df[\"Text\"].apply(lambda text: re.findall(DOI_PATTERN, str(text)))\n",
    "            # df = df.loc[df[\"DOIs\"].str.len() > 2]\n",
    "        df[\"board\"] = board\n",
    "        print(df.head())\n",
    "        print(df.shape)\n",
    "        return df\n",
    "\n",
    "    return process_set(\"Comments\"), process_set(\"PostHistory\"), process_set(\"PostLinks\")"
   ]
  },
  {
   "cell_type": "code",
   "execution_count": 60,
   "metadata": {
    "collapsed": false,
    "pycharm": {
     "name": "#%%\n"
    }
   },
   "outputs": [],
   "source": [
    "def add_boards(rows, batch_size=50):\n",
    "    # Adds board nodes\n",
    "    query = '''\n",
    "    UNWIND $rows as board\n",
    "    MERGE (b:Board {boardname: board.name})\n",
    "    RETURN count(b:Board) as total\n",
    "    '''\n",
    "    return insert_data(query, rows, batch_size)"
   ]
  },
  {
   "cell_type": "code",
   "execution_count": 61,
   "metadata": {
    "collapsed": false,
    "pycharm": {
     "name": "#%%\n"
    }
   },
   "outputs": [],
   "source": [
    "def add_posts(rows, batch_size=50):\n",
    "   # Adds post nodes\n",
    "   query = '''\n",
    "    // Create posts\n",
    "    UNWIND $rows as post\n",
    "    MERGE (p:Post {postid: post.PostId})\n",
    "    ON CREATE SET\n",
    "    p.text = post.Text\n",
    "\n",
    "    WITH post, p\n",
    "    UNWIND post.DOIs AS doi\n",
    "    MATCH (r:Paper {doi:doi})\n",
    "    MERGE (p)-[:REFERENCES]->(r)\n",
    "\n",
    "    WITH post, p\n",
    "    MATCH (b:Board {boardname:post.board})\n",
    "    MERGE (p)-[:FROM_BOARD]->(b)\n",
    "    RETURN count(p:Post) as total\n",
    "   '''\n",
    "   return insert_data(query, rows, batch_size)"
   ]
  },
  {
   "cell_type": "code",
   "execution_count": 62,
   "metadata": {
    "collapsed": false,
    "pycharm": {
     "name": "#%%\n"
    }
   },
   "outputs": [],
   "source": [
    "def add_comments(rows, batch_size=50):\n",
    "   # Adds comment nodes\n",
    "   query = '''\n",
    "    // Create comments\n",
    "    UNWIND $rows as comment\n",
    "    MERGE (c:Comment {commentid: comment.Id})\n",
    "    ON CREATE SET\n",
    "    c.text = comment.Text\n",
    "\n",
    "    // Match posts\n",
    "    WITH comment, c\n",
    "    MATCH (p:Post {postid: comment.PostId})\n",
    "    MERGE (c)-[:RESPONDS_TO]->(p)\n",
    "\n",
    "    // Match references\n",
    "    WITH comment, c\n",
    "    UNWIND comment.DOIs AS doi\n",
    "    MATCH (r:Paper {doi:doi})\n",
    "    MERGE (c)-[:REFERENCES]->(r)\n",
    "    RETURN count(c:Comment) as total\n",
    "   '''\n",
    "   return insert_data(query, rows, batch_size)"
   ]
  },
  {
   "cell_type": "code",
   "execution_count": 63,
   "metadata": {
    "collapsed": false,
    "pycharm": {
     "name": "#%%\n"
    }
   },
   "outputs": [],
   "source": [
    "def add_post_links(rows, batch_size=50):\n",
    "   # Adds post nodes\n",
    "   query = '''\n",
    "    // Create posts\n",
    "    UNWIND $rows as post_link\n",
    "    MATCH (p:Post {postid:post_link.PostId})\n",
    "    MATCH (r:Post {postid:post_link.RelatedPostId})\n",
    "    MERGE (p)-[:REFERENCES]->(r)\n",
    "    RETURN count(p:Post) as total\n",
    "   '''\n",
    "   return insert_data(query, rows, batch_size)"
   ]
  },
  {
   "cell_type": "code",
   "execution_count": 64,
   "metadata": {
    "collapsed": false,
    "pycharm": {
     "name": "#%%\n"
    }
   },
   "outputs": [
    {
     "data": {
      "text/plain": [
       "[]"
      ]
     },
     "execution_count": 64,
     "metadata": {},
     "output_type": "execute_result"
    }
   ],
   "source": [
    "conn.query('CREATE INDEX paper_doi_index IF NOT EXISTS FOR (p:Paper) ON (p.doi);')\n",
    "conn.query('CREATE INDEX post_id_index IF NOT EXISTS FOR (p:Post) ON (p.postid);')\n",
    "conn.query('CREATE INDEX comment_id_index IF NOT EXISTS FOR (c:Comment) ON (c.commentid);')"
   ]
  },
  {
   "cell_type": "code",
   "execution_count": 65,
   "metadata": {
    "collapsed": false,
    "pycharm": {
     "name": "#%%\n"
    }
   },
   "outputs": [
    {
     "name": "stderr",
     "output_type": "stream",
     "text": [
      "100%|██████████| 3/3 [00:00<00:00, 300.85it/s]\n"
     ]
    },
    {
     "data": {
      "text/plain": [
       "{'batch_size': 1,\n",
       " 'batches_done': 2,\n",
       " 'batch_time': 0.002956867218017578,\n",
       " 'total_time': 0.011945486068725586}"
      ]
     },
     "execution_count": 65,
     "metadata": {},
     "output_type": "execute_result"
    }
   ],
   "source": [
    "se_boards = [\n",
    "    \"ai\",\n",
    "    \"cstheory\",\n",
    "    #  \"datascience\",\n",
    "    #  \"softwarerecs\"\n",
    "     ]\n",
    "add_boards(pd.DataFrame({\"name\": se_boards}), batch_size=1)"
   ]
  },
  {
   "cell_type": "code",
   "execution_count": 66,
   "metadata": {
    "collapsed": false,
    "pycharm": {
     "name": "#%%\n"
    }
   },
   "outputs": [
    {
     "name": "stdout",
     "output_type": "stream",
     "text": [
      "Board: ai\n",
      "   Id  PostId  Score                                               Text  \\\n",
      "0   9      22      1  I think the AI Box is actually a bad introduct...   \n",
      "1  10      15      6  Definitely requires a statistical approach wit...   \n",
      "2  11      22      0  Fair enough.  I just happen to be more familia...   \n",
      "3  14      41      1  If by IQ you mean pattern-finding (which is ge...   \n",
      "4  24      45      0  Regarding Asimov's laws, AFAIK, [the zeroth la...   \n",
      "\n",
      "              CreationDate  UserId ContentLicense UserDisplayName DOIs board  \n",
      "0  2016-08-02T16:00:04.297    10.0   CC BY-SA 3.0            None   []    ai  \n",
      "1  2016-08-02T16:01:10.020    38.0   CC BY-SA 3.0            None   []    ai  \n",
      "2  2016-08-02T16:04:37.090    33.0   CC BY-SA 3.0            None   []    ai  \n",
      "3  2016-08-02T16:14:28.373    47.0   CC BY-SA 3.0            None   []    ai  \n",
      "4  2016-08-02T16:49:20.210    71.0   CC BY-SA 3.0            None   []    ai  \n",
      "(22266, 10)\n",
      "   Id  PostHistoryTypeId  PostId                          RevisionGUID  \\\n",
      "0   1                  2       1  acd11026-43b5-4640-a6dd-dfff1749f5b5   \n",
      "1   2                  1       1  acd11026-43b5-4640-a6dd-dfff1749f5b5   \n",
      "2   3                  3       1  acd11026-43b5-4640-a6dd-dfff1749f5b5   \n",
      "3   4                  2       2  21760e2e-0597-45b4-bd0d-87a585d25a5e   \n",
      "4   5                  1       2  21760e2e-0597-45b4-bd0d-87a585d25a5e   \n",
      "\n",
      "              CreationDate  UserId  \\\n",
      "0  2016-08-02T15:39:14.947     8.0   \n",
      "1  2016-08-02T15:39:14.947     8.0   \n",
      "2  2016-08-02T15:39:14.947     8.0   \n",
      "3  2016-08-02T15:40:20.623     8.0   \n",
      "4  2016-08-02T15:40:20.623     8.0   \n",
      "\n",
      "                                                Text ContentLicense Comment  \\\n",
      "0  What \"backprop\" does it mean? I've Googled it,...   CC BY-SA 3.0    None   \n",
      "1                            What is the \"backprop\"?   CC BY-SA 3.0    None   \n",
      "2                                     <deep-network>   CC BY-SA 3.0    None   \n",
      "3  Does increasing noise would help to achieve be...   CC BY-SA 3.0    None   \n",
      "4              How does noise affect generalization?   CC BY-SA 3.0    None   \n",
      "\n",
      "  UserDisplayName DOIs board  \n",
      "0            None   []    ai  \n",
      "1            None   []    ai  \n",
      "2            None   []    ai  \n",
      "3            None   []    ai  \n",
      "4            None   []    ai  \n",
      "(87327, 12)\n",
      "    Id             CreationDate  PostId  RelatedPostId  LinkTypeId board\n",
      "0  103  2016-08-02T19:22:20.577     118             10           1    ai\n",
      "1  136  2016-08-02T21:18:16.763     140             36           1    ai\n",
      "2  179  2016-08-03T05:15:39.443     179             26           1    ai\n",
      "3  194  2016-08-03T06:20:50.550     148            186           1    ai\n",
      "4  195  2016-08-03T06:37:01.983      37             74           1    ai\n",
      "(2026, 6)\n"
     ]
    },
    {
     "name": "stderr",
     "output_type": "stream",
     "text": [
      "100%|██████████| 217/217 [00:03<00:00, 56.64it/s]\n",
      "100%|██████████| 223/223 [00:02<00:00, 84.28it/s]\n",
      "100%|██████████| 21/21 [00:00<00:00, 131.23it/s]\n"
     ]
    },
    {
     "name": "stdout",
     "output_type": "stream",
     "text": [
      "Board: cstheory\n",
      "   Id  PostId  Score                                               Text  \\\n",
      "0   1       2      1  Can you ask a more precise question?  Your fir...   \n",
      "1   2       2      1  Yes, the language is a bit confusing. It took ...   \n",
      "2   3       2      0  Yes, that's what I meant.  I will edit for cla...   \n",
      "3   4       3      2               Which are the edges in your example?   \n",
      "4   5      14      5  I think that this is off-topic.  If not, it sh...   \n",
      "\n",
      "              CreationDate  UserId ContentLicense UserDisplayName DOIs  \\\n",
      "0  2010-08-16T19:56:53.447    66.0   CC BY-SA 2.5            None   []   \n",
      "1  2010-08-16T20:00:19.490     NaN   CC BY-SA 2.5            Hans   []   \n",
      "2  2010-08-16T20:02:44.430    48.0   CC BY-SA 2.5            None   []   \n",
      "3  2010-08-16T20:17:35.470    10.0   CC BY-SA 2.5            None   []   \n",
      "4  2010-08-16T20:32:48.990     7.0   CC BY-SA 2.5            None   []   \n",
      "\n",
      "      board  \n",
      "0  cstheory  \n",
      "1  cstheory  \n",
      "2  cstheory  \n",
      "3  cstheory  \n",
      "4  cstheory  \n",
      "(67667, 10)\n",
      "   Id  PostHistoryTypeId  PostId                          RevisionGUID  \\\n",
      "0   4                  2       2  0e252b9b-6a8f-45d1-9ed8-48353962a914   \n",
      "1   5                  1       2  0e252b9b-6a8f-45d1-9ed8-48353962a914   \n",
      "2   6                  3       2  0e252b9b-6a8f-45d1-9ed8-48353962a914   \n",
      "3   7                  2       3  b009d45c-51b7-4a72-ad99-df1781490406   \n",
      "4   8                  1       3  b009d45c-51b7-4a72-ad99-df1781490406   \n",
      "\n",
      "              CreationDate  UserId  \\\n",
      "0  2010-08-16T19:46:06.793    48.0   \n",
      "1  2010-08-16T19:46:06.793    48.0   \n",
      "2  2010-08-16T19:46:06.793    48.0   \n",
      "3  2010-08-16T19:50:13.663    35.0   \n",
      "4  2010-08-16T19:50:13.663    35.0   \n",
      "\n",
      "                                                Text ContentLicense Comment  \\\n",
      "0  I have a dataset which is a number of objects ...   CC BY-SA 2.5    None   \n",
      "1     What is a good special-case sorting algorithm?   CC BY-SA 2.5    None   \n",
      "2  <sorting><ds.algorithms><complexity><total><or...   CC BY-SA 2.5    None   \n",
      "3  A particular programming problem I came across...   CC BY-SA 2.5    None   \n",
      "4  What are some effective heuristics to find the...   CC BY-SA 2.5    None   \n",
      "\n",
      "  UserDisplayName DOIs     board  \n",
      "0            None   []  cstheory  \n",
      "1            None   []  cstheory  \n",
      "2            None   []  cstheory  \n",
      "3            None   []  cstheory  \n",
      "4            None   []  cstheory  \n",
      "(99984, 12)\n",
      "    Id             CreationDate  PostId  RelatedPostId  LinkTypeId     board\n",
      "0   52  2010-08-19T05:43:21.017     257            161           1  cstheory\n",
      "1   59  2010-08-19T16:10:03.380     268              7           1  cstheory\n",
      "2  100  2010-08-21T18:44:01.830     364             64           1  cstheory\n",
      "3  118  2010-08-23T23:08:00.300     449            450           1  cstheory\n",
      "4  163  2010-08-25T14:05:49.567     524             93           1  cstheory\n",
      "(3321, 6)\n"
     ]
    },
    {
     "name": "stderr",
     "output_type": "stream",
     "text": [
      "100%|██████████| 283/283 [00:04<00:00, 65.04it/s]\n",
      "100%|██████████| 677/677 [00:08<00:00, 84.55it/s]\n",
      "100%|██████████| 34/34 [00:00<00:00, 108.23it/s]\n"
     ]
    }
   ],
   "source": [
    "for board in se_boards:\n",
    "    print(\"Board:\", board)\n",
    "    comments_df, posthistory_df, postlinks_df = process_stackexchange(board)\n",
    "    posthistory_df = posthistory_df.sort_values('CreationDate', ascending=False).drop_duplicates(subset=[\"PostId\"])\n",
    "    add_posts(posthistory_df, batch_size=100)\n",
    "    add_comments(comments_df, batch_size=100)\n",
    "    add_post_links(postlinks_df, batch_size=100)\n",
    "    del(comments_df, posthistory_df)"
   ]
  },
  {
   "cell_type": "code",
   "execution_count": null,
   "metadata": {},
   "outputs": [],
   "source": []
  }
 ],
 "metadata": {
  "kernelspec": {
   "display_name": "Python 3.10.2 ('knowledge_engineering-zI5oI6JL')",
   "language": "python",
   "name": "python3"
  },
  "language_info": {
   "codemirror_mode": {
    "name": "ipython",
    "version": 3
   },
   "file_extension": ".py",
   "mimetype": "text/x-python",
   "name": "python",
   "nbconvert_exporter": "python",
   "pygments_lexer": "ipython3",
   "version": "3.10.2"
  },
  "orig_nbformat": 4,
  "vscode": {
   "interpreter": {
    "hash": "b437e091bdbe4d182467bbb25a3e9c24c161cc405420ae26ca51c6977e940732"
   }
  }
 },
 "nbformat": 4,
 "nbformat_minor": 2
}
